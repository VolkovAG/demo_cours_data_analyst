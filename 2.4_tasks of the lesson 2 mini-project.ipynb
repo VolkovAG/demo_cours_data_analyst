{
 "cells": [
  {
   "cell_type": "markdown",
   "source": [
    "В первом мини-проекте вам предстоит проанализировать **данные** о бронировании отелей. Чуть ниже вы можете ознакомиться со списком вопросов и описанием данных. Для удобства проверки далее задачи разбиты на шаги. В некоторых из них также можно встретить небольшие подсказки. Желаем успехов! :)\n",
    "\n",
    "**Задачи**\n",
    "1. Импортируйте библиотеку pandas как pd. Загрузите датасет [bookings.csv](https://stepik.org/media/attachments/lesson/360344/bookings.csv) с разделителем ';'. Проверьте размер таблицы, типы переменных, а затем выведите первые 7 строк, чтобы посмотреть на данные.\n",
    "2. Приведите названия колонок к нижнему регистру и замените пробелы на знак нижнего подчеркивания.\n",
    "3. Пользователи из каких стран совершили наибольшее число успешных бронирований? Укажите топ-5.\n",
    "4. На сколько ночей в среднем бронируют отели разных типов?\n",
    "5. Иногда тип номера, полученного клиентом (assigned_room_type), отличается от изначально забронированного (reserved_room_type). Такое может произойти, например, по причине овербукинга. Сколько подобных наблюдений встретилось в датасете?\n",
    "6. Проанализируйте даты запланированного прибытия.\n",
    "– На какой месяц чаще всего успешно оформляли бронь в 2016? Изменился ли самый популярный месяц в 2017?\n",
    "– Сгруппируйте данные по годам и проверьте, на какой месяц бронирования отеля типа City Hotel отменялись чаще всего в каждый из периодов.\n",
    "7. Посмотрите на числовые характеристики трёх переменных: adults, children и babies. Какая из них имеет наибольшее среднее значение?\n",
    "8. Создайте колонку total_kids, объединив children и babies. Отели какого типа в среднем пользуются большей популярностью у клиентов с детьми?\n",
    "Создайте переменную has_kids, которая принимает значение True, если клиент при бронировании указал хотя бы одного ребенка (total_kids), и False – в противном случае. Посчитайте отношение количества ушедших пользователей к общему количеству клиентов, выраженное в процентах (churn rate). Укажите, среди какой группы показатель выше.\n",
    "\n",
    "**Описание данных**\n",
    "Имеются следующие переменные:\n",
    "- **Hotel** – тип отеля (City Hotel или Resort Hotel)\n",
    "- **Is canceled** – бронирование было отменено (1) или нет (0); неотменённое считается успешным\n",
    "- **Lead time** – количество дней, прошедших между датой бронирования и датой прибытия\n",
    "- **Arrival full date** – полная дата прибытия\n",
    "- **Arrival date year** – год прибытия\n",
    "- **Arrival date month** – месяц прибытия\n",
    "- **Arrival date week number** – номер недели прибытия\n",
    "- **Arrival date day of month** – день прибытия\n",
    "- **Stays in weekend nights** – количество выходных (суббота или воскресенье), которые гость забронировал для проживания в отеле\n",
    "- **Stays in week nights** – количество дней (с понедельника по пятницу), которые гость забронировал для проживания в отеле\n",
    "- **Stays total nights** – общее число забронированных ночей (сумма двух предыдущих колонок)\n",
    "- **Adults** – число взрослых\n",
    "- **Children** – число детей\n",
    "- **Babies** – число младенцев\n",
    "- **Meal** – выбранный тип питания\n",
    "- **Country** – страна происхождения клиента\n",
    "- **Reserved room type** – тип зарезервированного номера\n",
    "- **Assigned room type** – тип полученного номера (может отличаться от забронированного)\n",
    "- **Customer type** – тип бронирования\n",
    "- **Reservation status** – значение последнего статуса брони: Canceled – было отменено клиентом; Check-Out – клиент зарегистрировался, но уже покинул отель; No-Show – клиент не зарегистрировался и сообщил администрации отеля причину\n",
    "- **Reservation status date** – дата обновления статуса"
   ],
   "metadata": {
    "collapsed": false
   }
  },
  {
   "cell_type": "markdown",
   "source": [
    "---\n",
    "### Задача №1\n",
    "Импортируйте библиотеку pandas как pd. Прочитайте датасет bookings.csv, находящийся по ссылке, с разделителем ;  и сохраните в переменную bookings. Затем запишите первые 7 строк в переменную bookings_head."
   ],
   "metadata": {
    "collapsed": false
   },
   "outputs": [
    {
     "ename": "SyntaxError",
     "evalue": "invalid syntax (1730031119.py, line 1)",
     "output_type": "error",
     "traceback": [
      "\u001B[1;36m  Input \u001B[1;32mIn [1]\u001B[1;36m\u001B[0m\n\u001B[1;33m    ---\u001B[0m\n\u001B[1;37m       ^\u001B[0m\n\u001B[1;31mSyntaxError\u001B[0m\u001B[1;31m:\u001B[0m invalid syntax\n"
     ]
    }
   ],
   "execution_count": 1
  },
  {
   "cell_type": "code",
   "execution_count": 6,
   "outputs": [
    {
     "data": {
      "text/plain": "          Hotel  Is Canceled  Lead Time arrival full date  Arrival Date Year  \\\n0  Resort Hotel            0        342        2015-07-01               2015   \n1  Resort Hotel            0        737        2015-07-01               2015   \n2  Resort Hotel            0          7        2015-07-01               2015   \n3  Resort Hotel            0         13        2015-07-01               2015   \n4  Resort Hotel            0         14        2015-07-01               2015   \n5  Resort Hotel            0         14        2015-07-01               2015   \n6  Resort Hotel            0          0        2015-07-01               2015   \n\n  Arrival Date Month  Arrival Date Week Number  Arrival Date Day of Month  \\\n0               July                        27                          1   \n1               July                        27                          1   \n2               July                        27                          1   \n3               July                        27                          1   \n4               July                        27                          1   \n5               July                        27                          1   \n6               July                        27                          1   \n\n   Stays in Weekend nights  Stays in week nights  ...  Adults  Children  \\\n0                        0                     0  ...       2       0.0   \n1                        0                     0  ...       2       0.0   \n2                        0                     1  ...       1       0.0   \n3                        0                     1  ...       1       0.0   \n4                        0                     2  ...       2       0.0   \n5                        0                     2  ...       2       0.0   \n6                        0                     2  ...       2       0.0   \n\n   Babies  Meal Country Reserved Room Type Assigned room type customer type  \\\n0       0    BB     PRT                  C                  C     Transient   \n1       0    BB     PRT                  C                  C     Transient   \n2       0    BB     GBR                  A                  C     Transient   \n3       0    BB     GBR                  A                  A     Transient   \n4       0    BB     GBR                  A                  A     Transient   \n5       0    BB     GBR                  A                  A     Transient   \n6       0    BB     PRT                  C                  C     Transient   \n\n  Reservation Status Reservation status_date  \n0          Check-Out              2015-07-01  \n1          Check-Out              2015-07-01  \n2          Check-Out              2015-07-02  \n3          Check-Out              2015-07-02  \n4          Check-Out              2015-07-03  \n5          Check-Out              2015-07-03  \n6          Check-Out              2015-07-03  \n\n[7 rows x 21 columns]",
      "text/html": "<div>\n<style scoped>\n    .dataframe tbody tr th:only-of-type {\n        vertical-align: middle;\n    }\n\n    .dataframe tbody tr th {\n        vertical-align: top;\n    }\n\n    .dataframe thead th {\n        text-align: right;\n    }\n</style>\n<table border=\"1\" class=\"dataframe\">\n  <thead>\n    <tr style=\"text-align: right;\">\n      <th></th>\n      <th>Hotel</th>\n      <th>Is Canceled</th>\n      <th>Lead Time</th>\n      <th>arrival full date</th>\n      <th>Arrival Date Year</th>\n      <th>Arrival Date Month</th>\n      <th>Arrival Date Week Number</th>\n      <th>Arrival Date Day of Month</th>\n      <th>Stays in Weekend nights</th>\n      <th>Stays in week nights</th>\n      <th>...</th>\n      <th>Adults</th>\n      <th>Children</th>\n      <th>Babies</th>\n      <th>Meal</th>\n      <th>Country</th>\n      <th>Reserved Room Type</th>\n      <th>Assigned room type</th>\n      <th>customer type</th>\n      <th>Reservation Status</th>\n      <th>Reservation status_date</th>\n    </tr>\n  </thead>\n  <tbody>\n    <tr>\n      <th>0</th>\n      <td>Resort Hotel</td>\n      <td>0</td>\n      <td>342</td>\n      <td>2015-07-01</td>\n      <td>2015</td>\n      <td>July</td>\n      <td>27</td>\n      <td>1</td>\n      <td>0</td>\n      <td>0</td>\n      <td>...</td>\n      <td>2</td>\n      <td>0.0</td>\n      <td>0</td>\n      <td>BB</td>\n      <td>PRT</td>\n      <td>C</td>\n      <td>C</td>\n      <td>Transient</td>\n      <td>Check-Out</td>\n      <td>2015-07-01</td>\n    </tr>\n    <tr>\n      <th>1</th>\n      <td>Resort Hotel</td>\n      <td>0</td>\n      <td>737</td>\n      <td>2015-07-01</td>\n      <td>2015</td>\n      <td>July</td>\n      <td>27</td>\n      <td>1</td>\n      <td>0</td>\n      <td>0</td>\n      <td>...</td>\n      <td>2</td>\n      <td>0.0</td>\n      <td>0</td>\n      <td>BB</td>\n      <td>PRT</td>\n      <td>C</td>\n      <td>C</td>\n      <td>Transient</td>\n      <td>Check-Out</td>\n      <td>2015-07-01</td>\n    </tr>\n    <tr>\n      <th>2</th>\n      <td>Resort Hotel</td>\n      <td>0</td>\n      <td>7</td>\n      <td>2015-07-01</td>\n      <td>2015</td>\n      <td>July</td>\n      <td>27</td>\n      <td>1</td>\n      <td>0</td>\n      <td>1</td>\n      <td>...</td>\n      <td>1</td>\n      <td>0.0</td>\n      <td>0</td>\n      <td>BB</td>\n      <td>GBR</td>\n      <td>A</td>\n      <td>C</td>\n      <td>Transient</td>\n      <td>Check-Out</td>\n      <td>2015-07-02</td>\n    </tr>\n    <tr>\n      <th>3</th>\n      <td>Resort Hotel</td>\n      <td>0</td>\n      <td>13</td>\n      <td>2015-07-01</td>\n      <td>2015</td>\n      <td>July</td>\n      <td>27</td>\n      <td>1</td>\n      <td>0</td>\n      <td>1</td>\n      <td>...</td>\n      <td>1</td>\n      <td>0.0</td>\n      <td>0</td>\n      <td>BB</td>\n      <td>GBR</td>\n      <td>A</td>\n      <td>A</td>\n      <td>Transient</td>\n      <td>Check-Out</td>\n      <td>2015-07-02</td>\n    </tr>\n    <tr>\n      <th>4</th>\n      <td>Resort Hotel</td>\n      <td>0</td>\n      <td>14</td>\n      <td>2015-07-01</td>\n      <td>2015</td>\n      <td>July</td>\n      <td>27</td>\n      <td>1</td>\n      <td>0</td>\n      <td>2</td>\n      <td>...</td>\n      <td>2</td>\n      <td>0.0</td>\n      <td>0</td>\n      <td>BB</td>\n      <td>GBR</td>\n      <td>A</td>\n      <td>A</td>\n      <td>Transient</td>\n      <td>Check-Out</td>\n      <td>2015-07-03</td>\n    </tr>\n    <tr>\n      <th>5</th>\n      <td>Resort Hotel</td>\n      <td>0</td>\n      <td>14</td>\n      <td>2015-07-01</td>\n      <td>2015</td>\n      <td>July</td>\n      <td>27</td>\n      <td>1</td>\n      <td>0</td>\n      <td>2</td>\n      <td>...</td>\n      <td>2</td>\n      <td>0.0</td>\n      <td>0</td>\n      <td>BB</td>\n      <td>GBR</td>\n      <td>A</td>\n      <td>A</td>\n      <td>Transient</td>\n      <td>Check-Out</td>\n      <td>2015-07-03</td>\n    </tr>\n    <tr>\n      <th>6</th>\n      <td>Resort Hotel</td>\n      <td>0</td>\n      <td>0</td>\n      <td>2015-07-01</td>\n      <td>2015</td>\n      <td>July</td>\n      <td>27</td>\n      <td>1</td>\n      <td>0</td>\n      <td>2</td>\n      <td>...</td>\n      <td>2</td>\n      <td>0.0</td>\n      <td>0</td>\n      <td>BB</td>\n      <td>PRT</td>\n      <td>C</td>\n      <td>C</td>\n      <td>Transient</td>\n      <td>Check-Out</td>\n      <td>2015-07-03</td>\n    </tr>\n  </tbody>\n</table>\n<p>7 rows × 21 columns</p>\n</div>"
     },
     "execution_count": 6,
     "metadata": {},
     "output_type": "execute_result"
    }
   ],
   "source": [
    "import pandas as pd\n",
    "bookings = pd.read_csv('data_set/bookings.csv', sep=';')\n",
    "bookings_head = bookings.head(7)\n",
    "bookings_head"
   ],
   "metadata": {
    "collapsed": false
   }
  },
  {
   "cell_type": "markdown",
   "source": [],
   "metadata": {
    "collapsed": false
   }
  },
  {
   "cell_type": "markdown",
   "source": [
    "---\n",
    "### Задача №2\n",
    "Посмотрите на размеры таблицы. Сколько всего в ней столбцов?"
   ],
   "metadata": {
    "collapsed": false
   }
  },
  {
   "cell_type": "code",
   "execution_count": 8,
   "outputs": [
    {
     "data": {
      "text/plain": "(119390, 21)"
     },
     "execution_count": 8,
     "metadata": {},
     "output_type": "execute_result"
    }
   ],
   "source": [
    "bookings.shape #21"
   ],
   "metadata": {
    "collapsed": false
   }
  },
  {
   "cell_type": "markdown",
   "source": [
    "---\n",
    "### Задача №3\n",
    "К какому типу относится большинство переменных?"
   ],
   "metadata": {
    "collapsed": false
   }
  },
  {
   "cell_type": "code",
   "execution_count": 9,
   "outputs": [
    {
     "data": {
      "text/plain": "Hotel                         object\nIs Canceled                    int64\nLead Time                      int64\narrival full date             object\nArrival Date Year              int64\nArrival Date Month            object\nArrival Date Week Number       int64\nArrival Date Day of Month      int64\nStays in Weekend nights        int64\nStays in week nights           int64\nstays total nights             int64\nAdults                         int64\nChildren                     float64\nBabies                         int64\nMeal                          object\nCountry                       object\nReserved Room Type            object\nAssigned room type            object\ncustomer type                 object\nReservation Status            object\nReservation status_date       object\ndtype: object"
     },
     "execution_count": 9,
     "metadata": {},
     "output_type": "execute_result"
    }
   ],
   "source": [
    "bookings.dtypes #int64, object"
   ],
   "metadata": {
    "collapsed": false
   }
  },
  {
   "cell_type": "markdown",
   "source": [
    "---\n",
    "### Задача №4\n",
    "💀 Сложное задание! 💀\n",
    "Как вы уже могли заметить, при сборе датасета произошла небольшая ошибка, и названия колонок были записаны в неудобном для дальнейшей работы формате. Исправьте ситуацию: приведите названия столбцов к нижнему регистру и замените пробелы на знак нижнего подчёркивания. Например: Is Canceled -> is_canceled\n",
    "\n",
    "Могут пригодиться:\n",
    "rename\n",
    "str.lower\n",
    "str.replace\n",
    "columns"
   ],
   "metadata": {
    "collapsed": false
   }
  },
  {
   "cell_type": "code",
   "execution_count": 10,
   "outputs": [
    {
     "data": {
      "text/plain": "Index(['Hotel', 'Is Canceled', 'Lead Time', 'arrival full date',\n       'Arrival Date Year', 'Arrival Date Month', 'Arrival Date Week Number',\n       'Arrival Date Day of Month', 'Stays in Weekend nights',\n       'Stays in week nights', 'stays total nights', 'Adults', 'Children',\n       'Babies', 'Meal', 'Country', 'Reserved Room Type', 'Assigned room type',\n       'customer type', 'Reservation Status', 'Reservation status_date'],\n      dtype='object')"
     },
     "execution_count": 10,
     "metadata": {},
     "output_type": "execute_result"
    }
   ],
   "source": [
    "bookings.columns"
   ],
   "metadata": {
    "collapsed": false
   }
  },
  {
   "cell_type": "markdown",
   "source": [
    "Для автоматического переименования, создам функцию и проверю что она работает правильно.\n",
    "Потом, запущу еще раз уже сохранив в основной датафрейм bookings"
   ],
   "metadata": {
    "collapsed": false
   }
  },
  {
   "cell_type": "code",
   "execution_count": 16,
   "outputs": [
    {
     "data": {
      "text/plain": "          hotel  is_canceled  lead_time arrival_full_date  arrival_date_year  \\\n0  Resort Hotel            0        342        2015-07-01               2015   \n1  Resort Hotel            0        737        2015-07-01               2015   \n2  Resort Hotel            0          7        2015-07-01               2015   \n\n  arrival_date_month  arrival_date_week_number  arrival_date_day_of_month  \\\n0               July                        27                          1   \n1               July                        27                          1   \n2               July                        27                          1   \n\n   stays_in_weekend_nights  stays_in_week_nights  ...  adults  children  \\\n0                        0                     0  ...       2       0.0   \n1                        0                     0  ...       2       0.0   \n2                        0                     1  ...       1       0.0   \n\n   babies  meal country reserved_room_type assigned_room_type customer_type  \\\n0       0    BB     PRT                  C                  C     Transient   \n1       0    BB     PRT                  C                  C     Transient   \n2       0    BB     GBR                  A                  C     Transient   \n\n  reservation_status reservation_status_date  \n0          Check-Out              2015-07-01  \n1          Check-Out              2015-07-01  \n2          Check-Out              2015-07-02  \n\n[3 rows x 21 columns]",
      "text/html": "<div>\n<style scoped>\n    .dataframe tbody tr th:only-of-type {\n        vertical-align: middle;\n    }\n\n    .dataframe tbody tr th {\n        vertical-align: top;\n    }\n\n    .dataframe thead th {\n        text-align: right;\n    }\n</style>\n<table border=\"1\" class=\"dataframe\">\n  <thead>\n    <tr style=\"text-align: right;\">\n      <th></th>\n      <th>hotel</th>\n      <th>is_canceled</th>\n      <th>lead_time</th>\n      <th>arrival_full_date</th>\n      <th>arrival_date_year</th>\n      <th>arrival_date_month</th>\n      <th>arrival_date_week_number</th>\n      <th>arrival_date_day_of_month</th>\n      <th>stays_in_weekend_nights</th>\n      <th>stays_in_week_nights</th>\n      <th>...</th>\n      <th>adults</th>\n      <th>children</th>\n      <th>babies</th>\n      <th>meal</th>\n      <th>country</th>\n      <th>reserved_room_type</th>\n      <th>assigned_room_type</th>\n      <th>customer_type</th>\n      <th>reservation_status</th>\n      <th>reservation_status_date</th>\n    </tr>\n  </thead>\n  <tbody>\n    <tr>\n      <th>0</th>\n      <td>Resort Hotel</td>\n      <td>0</td>\n      <td>342</td>\n      <td>2015-07-01</td>\n      <td>2015</td>\n      <td>July</td>\n      <td>27</td>\n      <td>1</td>\n      <td>0</td>\n      <td>0</td>\n      <td>...</td>\n      <td>2</td>\n      <td>0.0</td>\n      <td>0</td>\n      <td>BB</td>\n      <td>PRT</td>\n      <td>C</td>\n      <td>C</td>\n      <td>Transient</td>\n      <td>Check-Out</td>\n      <td>2015-07-01</td>\n    </tr>\n    <tr>\n      <th>1</th>\n      <td>Resort Hotel</td>\n      <td>0</td>\n      <td>737</td>\n      <td>2015-07-01</td>\n      <td>2015</td>\n      <td>July</td>\n      <td>27</td>\n      <td>1</td>\n      <td>0</td>\n      <td>0</td>\n      <td>...</td>\n      <td>2</td>\n      <td>0.0</td>\n      <td>0</td>\n      <td>BB</td>\n      <td>PRT</td>\n      <td>C</td>\n      <td>C</td>\n      <td>Transient</td>\n      <td>Check-Out</td>\n      <td>2015-07-01</td>\n    </tr>\n    <tr>\n      <th>2</th>\n      <td>Resort Hotel</td>\n      <td>0</td>\n      <td>7</td>\n      <td>2015-07-01</td>\n      <td>2015</td>\n      <td>July</td>\n      <td>27</td>\n      <td>1</td>\n      <td>0</td>\n      <td>1</td>\n      <td>...</td>\n      <td>1</td>\n      <td>0.0</td>\n      <td>0</td>\n      <td>BB</td>\n      <td>GBR</td>\n      <td>A</td>\n      <td>C</td>\n      <td>Transient</td>\n      <td>Check-Out</td>\n      <td>2015-07-02</td>\n    </tr>\n  </tbody>\n</table>\n<p>3 rows × 21 columns</p>\n</div>"
     },
     "execution_count": 16,
     "metadata": {},
     "output_type": "execute_result"
    }
   ],
   "source": [
    "def replace_columns(name):\n",
    "    new_name = name.lower().replace(' ','_')\n",
    "    return new_name\n",
    "bookings.rename(columns=replace_columns).head(3)"
   ],
   "metadata": {
    "collapsed": false
   }
  },
  {
   "cell_type": "code",
   "execution_count": 19,
   "outputs": [
    {
     "data": {
      "text/plain": "hotel                         object\nis_canceled                    int64\nlead_time                      int64\narrival_full_date             object\narrival_date_year              int64\narrival_date_month            object\narrival_date_week_number       int64\narrival_date_day_of_month      int64\nstays_in_weekend_nights        int64\nstays_in_week_nights           int64\nstays_total_nights             int64\nadults                         int64\nchildren                     float64\nbabies                         int64\nmeal                          object\ncountry                       object\nreserved_room_type            object\nassigned_room_type            object\ncustomer_type                 object\nreservation_status            object\nreservation_status_date       object\ndtype: object"
     },
     "execution_count": 19,
     "metadata": {},
     "output_type": "execute_result"
    }
   ],
   "source": [
    "bookings = bookings.rename(columns=replace_columns)\n",
    "bookings.dtypes"
   ],
   "metadata": {
    "collapsed": false
   }
  },
  {
   "cell_type": "markdown",
   "source": [
    "---\n",
    "### Задача №5\n",
    "💀 Сложное задание! 💀\n",
    "Перейдём к исследованию данных! Пользователи из каких стран совершили наибольшее число успешных бронирований?\n",
    "Бронирование считается успешным, если в дальнейшем оно не было отменено (переменная is_canceled). В качестве ответа выберите страны, входящие в топ-5."
   ],
   "metadata": {
    "collapsed": false
   }
  },
  {
   "cell_type": "code",
   "execution_count": 36,
   "outputs": [
    {
     "data": {
      "text/plain": "PRT    21071\nGBR     9676\nFRA     8481\nESP     6391\nDEU     6069\n       ...  \nBHR        1\nDJI        1\nMLI        1\nNPL        1\nFRO        1\nName: country, Length: 165, dtype: int64"
     },
     "execution_count": 36,
     "metadata": {},
     "output_type": "execute_result"
    }
   ],
   "source": [
    "bookings\\\n",
    "    .query(\"is_canceled == 0\")\\\n",
    "    .country\\\n",
    "    .value_counts()"
   ],
   "metadata": {
    "collapsed": false
   }
  },
  {
   "cell_type": "markdown",
   "source": [
    "---\n",
    "### Задача №6\n",
    "На сколько ночей (stays_total_nights)  в среднем бронируют отели типа City Hotel? Resort Hotel? Запишите полученные значения в пропуски с точностью до 2 знаков после точки."
   ],
   "metadata": {
    "collapsed": false
   }
  },
  {
   "cell_type": "code",
   "execution_count": 39,
   "outputs": [
    {
     "data": {
      "text/plain": "          hotel  stays_total_nights\n0    City Hotel                2.98\n1  Resort Hotel                4.32",
      "text/html": "<div>\n<style scoped>\n    .dataframe tbody tr th:only-of-type {\n        vertical-align: middle;\n    }\n\n    .dataframe tbody tr th {\n        vertical-align: top;\n    }\n\n    .dataframe thead th {\n        text-align: right;\n    }\n</style>\n<table border=\"1\" class=\"dataframe\">\n  <thead>\n    <tr style=\"text-align: right;\">\n      <th></th>\n      <th>hotel</th>\n      <th>stays_total_nights</th>\n    </tr>\n  </thead>\n  <tbody>\n    <tr>\n      <th>0</th>\n      <td>City Hotel</td>\n      <td>2.98</td>\n    </tr>\n    <tr>\n      <th>1</th>\n      <td>Resort Hotel</td>\n      <td>4.32</td>\n    </tr>\n  </tbody>\n</table>\n</div>"
     },
     "execution_count": 39,
     "metadata": {},
     "output_type": "execute_result"
    }
   ],
   "source": [
    "bookings\\\n",
    "    .groupby('hotel', as_index=False)\\\n",
    "    .agg({'stays_total_nights':'mean'}).round(2)"
   ],
   "metadata": {
    "collapsed": false
   }
  },
  {
   "cell_type": "markdown",
   "source": [
    "---\n",
    "### Задача №7\n",
    "Иногда тип номера, полученного клиентом (assigned_room_type), отличается от изначально забронированного (reserved_room_type). Такое может произойти, например, по причине овербукинга.\n",
    "Сколько подобных наблюдений встретилось в датасете?\n",
    "*отмена бронирования также считается"
   ],
   "metadata": {
    "collapsed": false
   }
  },
  {
   "cell_type": "code",
   "execution_count": 67,
   "outputs": [
    {
     "data": {
      "text/plain": "(14917, 21)"
     },
     "execution_count": 67,
     "metadata": {},
     "output_type": "execute_result"
    }
   ],
   "source": [
    "bookings\\\n",
    "    .query(\"assigned_room_type != reserved_room_type\")\\\n",
    "    .shape"
   ],
   "metadata": {
    "collapsed": false
   }
  },
  {
   "cell_type": "markdown",
   "source": [
    "---\n",
    "### Задача №8\n",
    "Теперь проанализируйте даты запланированного прибытия (arrival_date_year).\n",
    "На какой месяц чаще всего оформляли бронь в 2016 году? Изменился ли самый популярный месяц в 2017 году?"
   ],
   "metadata": {
    "collapsed": false
   }
  },
  {
   "cell_type": "code",
   "execution_count": 87,
   "outputs": [
    {
     "data": {
      "text/plain": "arrival_date_month    (2016, October)\ndtype: object"
     },
     "execution_count": 87,
     "metadata": {},
     "output_type": "execute_result"
    }
   ],
   "source": [
    "bookings\\\n",
    "    .query(\"arrival_date_year == 2016\")\\\n",
    "    .groupby(['arrival_date_year', 'arrival_date_month'])\\\n",
    "    .agg({'arrival_date_month':'count'})\\\n",
    "    .idxmax()"
   ],
   "metadata": {
    "collapsed": false
   }
  },
  {
   "cell_type": "code",
   "execution_count": 88,
   "outputs": [
    {
     "data": {
      "text/plain": "arrival_date_month    (2017, May)\ndtype: object"
     },
     "execution_count": 88,
     "metadata": {},
     "output_type": "execute_result"
    }
   ],
   "source": [
    "bookings\\\n",
    "    .query(\"arrival_date_year == 2017\")\\\n",
    "    .groupby(['arrival_date_year', 'arrival_date_month'])\\\n",
    "    .agg({'arrival_date_month':'count'})\\\n",
    "    .idxmax()"
   ],
   "metadata": {
    "collapsed": false
   }
  },
  {
   "cell_type": "markdown",
   "source": [
    "**!!!** Есть еще один вариант получения значений"
   ],
   "metadata": {
    "collapsed": false
   }
  },
  {
   "cell_type": "code",
   "execution_count": 122,
   "outputs": [
    {
     "data": {
      "text/plain": "October      6203\nMay          5478\nApril        5428\nSeptember    5394\nJune         5292\nAugust       5063\nMarch        4824\nJuly         4572\nNovember     4454\nFebruary     3891\nDecember     3860\nJanuary      2248\nName: arrival_date_month, dtype: int64"
     },
     "execution_count": 122,
     "metadata": {},
     "output_type": "execute_result"
    }
   ],
   "source": [
    "bookings\\\n",
    "    .query('arrival_date_year == 2016')\\\n",
    "    .arrival_date_month\\\n",
    "    .value_counts()"
   ],
   "metadata": {
    "collapsed": false
   }
  },
  {
   "cell_type": "code",
   "execution_count": 123,
   "outputs": [
    {
     "data": {
      "text/plain": "May         6313\nApril       5661\nJune        5647\nJuly        5313\nMarch       4970\nAugust      4925\nFebruary    4177\nJanuary     3681\nName: arrival_date_month, dtype: int64"
     },
     "execution_count": 123,
     "metadata": {},
     "output_type": "execute_result"
    }
   ],
   "source": [
    "bookings\\\n",
    "    .query('arrival_date_year == 2017')\\\n",
    "    .arrival_date_month\\\n",
    "    .value_counts()"
   ],
   "metadata": {
    "collapsed": false
   }
  },
  {
   "cell_type": "markdown",
   "source": [
    "---\n",
    "### Задача №9\n",
    "Сгруппируйте данные по годам, а затем проверьте, на какой месяц (arrival_date_month) бронирования отеля типа City Hotel отменялись чаще всего в 2015? 2016? 2017?\n",
    "\n",
    "**Hint:** для этого сначала примените метод groupby, после чего выберите нужную колонку для дальнейших действий :)\n",
    "\n",
    "**Например:** df.groupby('column_1')['column_2'].what_to_do()"
   ],
   "metadata": {
    "collapsed": false
   }
  },
  {
   "cell_type": "code",
   "execution_count": 107,
   "outputs": [
    {
     "data": {
      "text/plain": "arrival_date_year  arrival_date_month\n2015               September             1543\n                   October               1321\n                   August                1232\n                   July                   939\n                   December               668\n                   November               301\n2016               October               1947\n                   June                  1720\n                   September             1567\n                   April                 1539\n                   May                   1436\n                   November              1360\n                   August                1247\n                   March                 1108\n                   December              1072\n                   July                  1043\n                   February               930\n                   January                438\n2017               May                   2217\n                   April                 1926\n                   June                  1808\n                   July                  1324\n                   March                 1278\n                   August                1123\n                   January               1044\n                   February               971\nName: arrival_date_month, dtype: int64"
     },
     "execution_count": 107,
     "metadata": {},
     "output_type": "execute_result"
    }
   ],
   "source": [
    "bookings\\\n",
    "    .query(\"hotel == 'City Hotel' & is_canceled == 1\")\\\n",
    "    .groupby('arrival_date_year')\\\n",
    "    .arrival_date_month\\\n",
    "    .value_counts()"
   ],
   "metadata": {
    "collapsed": false
   }
  },
  {
   "cell_type": "markdown",
   "source": [
    "---\n",
    "### Задача №10\n",
    "Посмотрите на числовые характеристики трёх колонок: adults, children и babies. Какая из них имеет наибольшее среднее значение?"
   ],
   "metadata": {
    "collapsed": false
   }
  },
  {
   "cell_type": "code",
   "execution_count": 134,
   "outputs": [
    {
     "data": {
      "text/plain": "adults      1.856403\nchildren    0.103890\nbabies      0.007949\ndtype: float64"
     },
     "execution_count": 134,
     "metadata": {},
     "output_type": "execute_result"
    }
   ],
   "source": [
    "bookings[['adults','children','babies']].mean()"
   ],
   "metadata": {
    "collapsed": false
   }
  },
  {
   "cell_type": "markdown",
   "source": [
    "---\n",
    "### Задача №11\n",
    "Создайте колонку **total_kids**, объединив столбцы children и babies. Для отелей какого типа среднее значение переменной оказалось наибольшим?\n",
    "**City hotel** – отель находится в городе\n",
    "**Resort hotel** – отель курортный\n",
    "В качестве ответа укажите наибольшее среднее total_kids, округлив до 2 знаков после точки."
   ],
   "metadata": {
    "collapsed": false
   }
  },
  {
   "cell_type": "code",
   "execution_count": 140,
   "outputs": [
    {
     "data": {
      "text/plain": "          hotel  is_canceled  lead_time arrival_full_date  arrival_date_year  \\\n0  Resort Hotel            0        342        2015-07-01               2015   \n1  Resort Hotel            0        737        2015-07-01               2015   \n2  Resort Hotel            0          7        2015-07-01               2015   \n\n  arrival_date_month  arrival_date_week_number  arrival_date_day_of_month  \\\n0               July                        27                          1   \n1               July                        27                          1   \n2               July                        27                          1   \n\n   stays_in_weekend_nights  stays_in_week_nights  ...  children  babies  meal  \\\n0                        0                     0  ...       0.0       0    BB   \n1                        0                     0  ...       0.0       0    BB   \n2                        0                     1  ...       0.0       0    BB   \n\n   country reserved_room_type assigned_room_type customer_type  \\\n0      PRT                  C                  C     Transient   \n1      PRT                  C                  C     Transient   \n2      GBR                  A                  C     Transient   \n\n  reservation_status reservation_status_date total_kids  \n0          Check-Out              2015-07-01        0.0  \n1          Check-Out              2015-07-01        0.0  \n2          Check-Out              2015-07-02        0.0  \n\n[3 rows x 22 columns]",
      "text/html": "<div>\n<style scoped>\n    .dataframe tbody tr th:only-of-type {\n        vertical-align: middle;\n    }\n\n    .dataframe tbody tr th {\n        vertical-align: top;\n    }\n\n    .dataframe thead th {\n        text-align: right;\n    }\n</style>\n<table border=\"1\" class=\"dataframe\">\n  <thead>\n    <tr style=\"text-align: right;\">\n      <th></th>\n      <th>hotel</th>\n      <th>is_canceled</th>\n      <th>lead_time</th>\n      <th>arrival_full_date</th>\n      <th>arrival_date_year</th>\n      <th>arrival_date_month</th>\n      <th>arrival_date_week_number</th>\n      <th>arrival_date_day_of_month</th>\n      <th>stays_in_weekend_nights</th>\n      <th>stays_in_week_nights</th>\n      <th>...</th>\n      <th>children</th>\n      <th>babies</th>\n      <th>meal</th>\n      <th>country</th>\n      <th>reserved_room_type</th>\n      <th>assigned_room_type</th>\n      <th>customer_type</th>\n      <th>reservation_status</th>\n      <th>reservation_status_date</th>\n      <th>total_kids</th>\n    </tr>\n  </thead>\n  <tbody>\n    <tr>\n      <th>0</th>\n      <td>Resort Hotel</td>\n      <td>0</td>\n      <td>342</td>\n      <td>2015-07-01</td>\n      <td>2015</td>\n      <td>July</td>\n      <td>27</td>\n      <td>1</td>\n      <td>0</td>\n      <td>0</td>\n      <td>...</td>\n      <td>0.0</td>\n      <td>0</td>\n      <td>BB</td>\n      <td>PRT</td>\n      <td>C</td>\n      <td>C</td>\n      <td>Transient</td>\n      <td>Check-Out</td>\n      <td>2015-07-01</td>\n      <td>0.0</td>\n    </tr>\n    <tr>\n      <th>1</th>\n      <td>Resort Hotel</td>\n      <td>0</td>\n      <td>737</td>\n      <td>2015-07-01</td>\n      <td>2015</td>\n      <td>July</td>\n      <td>27</td>\n      <td>1</td>\n      <td>0</td>\n      <td>0</td>\n      <td>...</td>\n      <td>0.0</td>\n      <td>0</td>\n      <td>BB</td>\n      <td>PRT</td>\n      <td>C</td>\n      <td>C</td>\n      <td>Transient</td>\n      <td>Check-Out</td>\n      <td>2015-07-01</td>\n      <td>0.0</td>\n    </tr>\n    <tr>\n      <th>2</th>\n      <td>Resort Hotel</td>\n      <td>0</td>\n      <td>7</td>\n      <td>2015-07-01</td>\n      <td>2015</td>\n      <td>July</td>\n      <td>27</td>\n      <td>1</td>\n      <td>0</td>\n      <td>1</td>\n      <td>...</td>\n      <td>0.0</td>\n      <td>0</td>\n      <td>BB</td>\n      <td>GBR</td>\n      <td>A</td>\n      <td>C</td>\n      <td>Transient</td>\n      <td>Check-Out</td>\n      <td>2015-07-02</td>\n      <td>0.0</td>\n    </tr>\n  </tbody>\n</table>\n<p>3 rows × 22 columns</p>\n</div>"
     },
     "execution_count": 140,
     "metadata": {},
     "output_type": "execute_result"
    }
   ],
   "source": [
    "t_kids = bookings.assign(total_kids = bookings.children + bookings.babies) #добавим поле total_kids"
   ],
   "metadata": {
    "collapsed": false
   }
  },
  {
   "cell_type": "code",
   "execution_count": 148,
   "outputs": [
    {
     "data": {
      "text/plain": "hotel\nCity Hotel      0.10\nResort Hotel    0.14\nName: total_kids, dtype: float64"
     },
     "execution_count": 148,
     "metadata": {},
     "output_type": "execute_result"
    }
   ],
   "source": [
    "#Tеперь сделаем выборку значений\n",
    "t_kids\\\n",
    "    .groupby('hotel')\\\n",
    "    .total_kids\\\n",
    "    .mean().round(2)"
   ],
   "metadata": {
    "collapsed": false
   }
  },
  {
   "cell_type": "code",
   "execution_count": 149,
   "outputs": [
    {
     "data": {
      "text/plain": "hotel\nCity Hotel      0.10\nResort Hotel    0.14\nName: total_kids, dtype: float64"
     },
     "execution_count": 149,
     "metadata": {},
     "output_type": "execute_result"
    }
   ],
   "source": [
    "#Так же это можно сделать и в одном запросе не сохраняя в новый дата cет, результат тот же!\n",
    "bookings\\\n",
    "    .assign(total_kids = bookings.children + bookings.babies)\\\n",
    "    .groupby('hotel')\\\n",
    "    .total_kids\\\n",
    "    .mean().round(2)"
   ],
   "metadata": {
    "collapsed": false
   }
  },
  {
   "cell_type": "markdown",
   "source": [
    "---\n",
    "### Задача №11\n",
    "💀 Сложное задание! 💀\n",
    "Не все бронирования завершились успешно (is_canceled), поэтому можно посчитать, сколько клиентов было потеряно в процессе. Иными словами, посчитать метрику под названием Churn Rate.\n",
    "\n",
    "Churn rate (отток, коэффициент оттока) – это процент подписчиков (например, на push-уведомления от сайта), которые отписались от канала коммуникации, отказались от услуг сервиса в течение определенного периода времени. Иными словами, представляет собой отношение количества ушедших пользователей к общему количеству пользователей, выраженное в процентах.\n",
    "\n",
    "В нашем случае Churn Rate - это процент клиентов, которые отменили бронирование. Давайте посмотрим, как эта метрика связана с наличием детей у клиентов!\n",
    "\n",
    "Создайте переменную has_kids, которая принимает значение True, если клиент при бронировании указал хотя бы одного ребенка (total_kids), в противном случае – False. Далее проверьте, среди какой группы пользователей показатель оттока выше.\n",
    "\n",
    "В качестве ответа укажите наибольший %, округленный до 2 знаков после точки (то есть доля 0.24563 будет 24.56% и в ответ пойдёт 24.56)"
   ],
   "metadata": {
    "collapsed": false
   }
  },
  {
   "cell_type": "code",
   "execution_count": 232,
   "outputs": [],
   "source": [
    "# добавим поле has_kids с булевым значением True и False\n",
    "t_kids = t_kids.assign(has_kids = t_kids.total_kids != 0)"
   ],
   "metadata": {
    "collapsed": false
   }
  },
  {
   "cell_type": "markdown",
   "source": [
    "> Рассчитаем **Churn rate** для группы людей у кого есть дети"
   ],
   "metadata": {
    "collapsed": false
   }
  },
  {
   "cell_type": "code",
   "execution_count": 242,
   "outputs": [
    {
     "data": {
      "text/plain": "34.95"
     },
     "execution_count": 242,
     "metadata": {},
     "output_type": "execute_result"
    }
   ],
   "source": [
    "#Рассчитаем для группы людей у кого есть дети\n",
    "(\n",
    "round(\n",
    "    t_kids\n",
    "        .query(\"is_canceled == 1 and has_kids == True\")\n",
    "        .shape[0] /\n",
    "    t_kids\n",
    "        .query(\"has_kids == True\")\n",
    "        .shape[0] * 100,2)\n",
    ")\n"
   ],
   "metadata": {
    "collapsed": false
   }
  },
  {
   "cell_type": "markdown",
   "source": [
    "> И рассчитаем **Churn rate** для группы людей у кого нет детей"
   ],
   "metadata": {
    "collapsed": false
   }
  },
  {
   "cell_type": "code",
   "execution_count": 247,
   "outputs": [
    {
     "data": {
      "text/plain": "37.22"
     },
     "execution_count": 247,
     "metadata": {},
     "output_type": "execute_result"
    }
   ],
   "source": [
    "\n",
    "(\n",
    "    round(\n",
    "        t_kids\n",
    "        .query(\"is_canceled == 1 and has_kids == False\")\n",
    "        .shape[0] /\n",
    "        t_kids\n",
    "        .query(\"has_kids == False\")\n",
    "        .shape[0] * 100, 2)\n",
    ")"
   ],
   "metadata": {
    "collapsed": false
   }
  }
 ],
 "metadata": {
  "kernelspec": {
   "display_name": "Python 3",
   "language": "python",
   "name": "python3"
  },
  "language_info": {
   "codemirror_mode": {
    "name": "ipython",
    "version": 2
   },
   "file_extension": ".py",
   "mimetype": "text/x-python",
   "name": "python",
   "nbconvert_exporter": "python",
   "pygments_lexer": "ipython2",
   "version": "2.7.6"
  }
 },
 "nbformat": 4,
 "nbformat_minor": 0
}
