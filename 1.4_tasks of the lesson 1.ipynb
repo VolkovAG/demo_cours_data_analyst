{
 "cells": [
  {
   "cell_type": "markdown",
   "source": [
    "Первый урок данного блока посвящён основам Python, знание которых сделает вашу дальнейшую работу с данными гораздо приятнее. Базовые навыки питона нам понадобятся, чтобы затем мастерски освоить анализ данных в библиотеке pandas!\n",
    "\n",
    "Это занятие будет в каком-то смысле самым сложным, если вы только начинаете программировать.\n",
    "\n",
    "В блоке есть ряд сложных задач, над которыми нужно относительно долго подумать — они помечены как \"💀 Сложное задание! 💀\".\n",
    "Также есть задачи, которые проходить необязательно — они помечены как \"⭐️Задание со звёздочкой!⭐️\".\n",
    "\n",
    "Для решения заданий со звёздочкой обычно может потребоваться что-то, чего не было в лекциях. Однако вся необходимая информация всегда есть в конспекте.\n",
    "\n",
    "Если вы не можете решить задания сразу — не переживайте. Вернитесь к ним через несколько уроков, когда у вас будет больше опыта.\n",
    "\n",
    "Удачи!"
   ],
   "metadata": {
    "collapsed": false
   }
  },
  {
   "cell_type": "markdown",
   "source": [
    "№1 Задания первого урока (1.4)\n",
    "\n",
    "Начнём с простого: сохраните в переменную age произвольный возраст, выраженный целым числом, а в переменную name – какое-нибудь имя в виде строки."
   ],
   "metadata": {
    "collapsed": false
   }
  },
  {
   "cell_type": "code",
   "execution_count": null,
   "outputs": [],
   "source": [
    "age = 55\n",
    "name = 'Volodia'"
   ],
   "metadata": {
    "collapsed": false
   }
  },
  {
   "cell_type": "markdown",
   "source": [
    "№2 Задания первого урока (1.4)\n",
    "\n",
    "Создайте список user_info, содержащий 4 элемента:\n",
    "\n",
    "2 строки (имя и фамилия пользователя)\n",
    "1 дробное число (зарплата)\n",
    "1 целое число (стаж)"
   ],
   "metadata": {
    "collapsed": false
   }
  },
  {
   "cell_type": "code",
   "execution_count": null,
   "outputs": [],
   "source": [
    "user_info = ['Aleks', 'Petrov', 15000.50, 5]"
   ],
   "metadata": {
    "collapsed": false
   }
  },
  {
   "cell_type": "markdown",
   "source": [
    "№3 Задания первого урока (1.4)\n",
    "\n",
    "Поместите в переменную first первый (т.е. нулевой) элемент из списка salaries. Сам список создавать не нужно, он уже находится в переменной salaries.\n",
    "\n",
    "Пример данных, которые могут в нем быть: [42, 100, 70, 80]"
   ],
   "metadata": {
    "collapsed": false
   }
  },
  {
   "cell_type": "code",
   "execution_count": null,
   "outputs": [],
   "source": [
    "salaries = [42, 100, 70, 80]\n",
    "first = salaries[0]"
   ],
   "metadata": {
    "collapsed": false
   }
  },
  {
   "cell_type": "markdown",
   "source": [
    "№4 Задания первого урока (1.4)\n",
    "\n",
    "Добавьте в уже созданный список users элементы 'Voronov' и 42.\n",
    "Сам список создавать не нужно, он уже находится в переменной users."
   ],
   "metadata": {
    "collapsed": false
   }
  },
  {
   "cell_type": "code",
   "execution_count": null,
   "outputs": [],
   "source": [
    "users =()\n",
    "users.append('Voronov')\n",
    "users.append(42)"
   ],
   "metadata": {
    "collapsed": false
   }
  },
  {
   "cell_type": "markdown",
   "source": [
    "№5 Задания первого урока (1.4)\n",
    "\n",
    "В переменной user_ages содержится список возрастов клиентов. Напишите цикл, выводящий на печать элементы больше 18.\n",
    "\n",
    "Пример данных, которые могут быть в user_ages:\n",
    "user_ages = [10, 18, 21, 35, 42, 27, 12, 16]\n",
    "\n",
    "Note: в этом задании эти числа нужно печатать."
   ],
   "metadata": {
    "collapsed": false
   }
  },
  {
   "cell_type": "code",
   "execution_count": 73,
   "outputs": [
    {
     "name": "stdout",
     "output_type": "stream",
     "text": [
      "21\n",
      "35\n",
      "42\n",
      "27\n"
     ]
    }
   ],
   "source": [
    "user_ages = [10, 18, 21, 35, 42, 27, 12, 16]\n",
    "for i in user_ages:\n",
    "    if i > 18:\n",
    "        print(i)"
   ],
   "metadata": {
    "collapsed": false
   }
  },
  {
   "cell_type": "markdown",
   "source": [
    "### №6 Задания первого урока (1.4)\n",
    "\n",
    "Напишите программу, проверяющую стаж работы сотрудника. В переменной worker содержится список, содержащий значения как во 2-м задании (имя, фамилия, зарплата, стаж). Поместите в переменную status следующую строку:\n",
    "\n",
    "user_name user_family is position\n",
    "\n",
    "где user_name и user_family — имя и фамилия сотрудника, а position — одно из следующих значений:\n",
    "\n",
    "'junior' — стаж меньше 2 лет\n",
    "'middle' — стаж больше либо равен 2 лет\n",
    "'senior' — стаж больше 5 лет\n",
    "\n",
    "Пример данных, которые могут быть в worker:\n",
    "\n",
    "worker = ['Olya', 'Silyutina', 350000, 3]\n",
    "\n",
    "Hint: печатать результат не нужно, просто запишите его в переменную status"
   ],
   "metadata": {
    "collapsed": false
   }
  },
  {
   "cell_type": "code",
   "execution_count": 3,
   "outputs": [
    {
     "name": "stdout",
     "output_type": "stream",
     "text": [
      "Olya Silyutina is middle\n"
     ]
    }
   ],
   "source": [
    "worker = ['Olya', 'Silyutina', 350000, 3]\n",
    "\n",
    "if worker[3] < 2:\n",
    "    status = (worker[0] + ' ' + worker[1] + ' is junior')\n",
    "elif worker[3] >= 2:\n",
    "    status = (worker[0] + ' ' + worker[1] + ' is middle')\n",
    "elif worker[3] > 5:\n",
    "    status = (worker[0] + ' ' + worker[1] + ' is senior')\n",
    "\n",
    "print(status)"
   ],
   "metadata": {
    "collapsed": false
   }
  },
  {
   "cell_type": "markdown",
   "source": [
    "### №7 Задания первого урока (1.4)\n",
    "В списке values содержатся числовые значения. Создайте список tens и добавьте в него все числа из values, которые делятся на 10 нацело.\n",
    "\n",
    "Пример данных, которые могут быть в values:\n",
    "\n",
    "values = [12, 134, 10, 47, 100, 20, 50, 160, 210]"
   ],
   "metadata": {
    "collapsed": false
   }
  },
  {
   "cell_type": "code",
   "execution_count": 75,
   "outputs": [
    {
     "name": "stdout",
     "output_type": "stream",
     "text": [
      "[10, 100, 20, 50, 160, 210]\n"
     ]
    }
   ],
   "source": [
    "values = [12, 134, 10, 47, 100, 20, 50, 160, 210]\n",
    "tens =[]\n",
    "for i in values:\n",
    "    if i % 10 == 0:\n",
    "        tens.append(i)\n",
    "print(tens)"
   ],
   "metadata": {
    "collapsed": false
   }
  },
  {
   "cell_type": "markdown",
   "source": [
    "### №8 Задания первого урока (1.4)\n",
    "\n",
    "⭐️Задание со звёздочкой!⭐️\n",
    "\n",
    "Реализуйте цикл, который пробегается по уже созданному списку workers со значениями как в 2-м и 6-м заданиях и выводит для каждого сотрудника следующую строку (то есть печатает её для каждого элемента списка):\n",
    "\n",
    "user_name user_family is position\n",
    "\n",
    "где user_name и user_family — имя и фамилия сотрудника, а position — одна из следующих строк:\n",
    "\n",
    "'junior' — стаж меньше 2 лет\n",
    "'middle' — стаж больше либо равен 2\n",
    "'senior' — стаж строго больше 5 лет\n",
    "\n",
    "Пример данных, которые могут быть в workers:\n",
    "\n",
    "workers = [['Ivan', 'Ivanov', 100000, 2], ['Petr', 'Petrov', 150000, 2], ['Sidor', 'Sidorov', 200000, 3]]\n",
    "\n",
    "Note: в этом задании эти строки нужно печатать (используйте функцию print)."
   ],
   "metadata": {
    "collapsed": false
   }
  },
  {
   "cell_type": "code",
   "execution_count": 18,
   "outputs": [
    {
     "name": "stdout",
     "output_type": "stream",
     "text": [
      "Ivan Ivanov is middle\n",
      "Petr Petrov is senior\n",
      "Sidor Sidorov is middle\n"
     ]
    }
   ],
   "source": [
    "workers = [['Ivan', 'Ivanov', 100000, 2],\n",
    "           ['Petr', 'Petrov', 150000, 6],\n",
    "           ['Sidor', 'Sidorov', 200000, 3]]\n",
    "\n",
    "for i in workers:\n",
    "    if i[3] < 2: #\n",
    "        print(i[0] + ' ' + i[1] + ' is junior')\n",
    "    elif i[3] >= 2 and i[3] <= 5:\n",
    "        print(i[0] + ' ' + i[1] + ' is middle')\n",
    "    elif i[3] > 5:\n",
    "        print(i[0] + ' ' + i[1] + ' is senior')\n"
   ],
   "metadata": {
    "collapsed": false
   }
  },
  {
   "cell_type": "markdown",
   "source": [
    "### №9 Задания первого урока (1.4)\n",
    "\n",
    "⭐️ Задание со звёздочкой! ⭐️\n",
    "\n",
    "Поместите в список lst числа от 0 (n = 0) до 10 включительно (N = 10) c шагом 2 (dn = 2). Для этого используйте условие while."
   ],
   "metadata": {
    "collapsed": false
   }
  },
  {
   "cell_type": "code",
   "execution_count": 54,
   "outputs": [
    {
     "name": "stdout",
     "output_type": "stream",
     "text": [
      "[0, 2, 4, 6, 8, 10]\n"
     ]
    }
   ],
   "source": [
    "lst = list()\n",
    "n = 0\n",
    "\n",
    "while n < 11:\n",
    "    lst.append(n)\n",
    "    n += 2\n",
    "\n",
    "print(lst)"
   ],
   "metadata": {
    "collapsed": false
   }
  },
  {
   "cell_type": "markdown",
   "source": [
    "### №10 Задания первого урока (1.4)\n",
    "\n",
    "На предыдущих шагах вы сталкивались с различными характеристиками пользователей, которые были сохранены в списках. Теперь попробуем собрать нужную информацию в словарь!\n",
    "\n",
    "Начнем с небольшого, где:\n",
    "\n",
    "ключом будет название характеристики\n",
    "значением – её значение\n",
    "\n",
    "В словарь поместите следующую информацию:\n",
    "характеристика | значение\n",
    "name \t        Masha\n",
    "surname \t    Volkova\n",
    "age \t        25\n",
    "salary \t        60000\n",
    "position \t    junior\n",
    "\n",
    "Результат сохраните в переменную salaries_dict."
   ],
   "metadata": {
    "collapsed": false
   }
  },
  {
   "cell_type": "code",
   "execution_count": 58,
   "outputs": [
    {
     "name": "stdout",
     "output_type": "stream",
     "text": [
      "{'name': 'Masha', 'surname': 'Volkova', 'age': 25, 'salary': 60000, 'position': 'junior'}\n"
     ]
    }
   ],
   "source": [
    "salaries_dict = {'name': 'Masha',\n",
    "                 'surname': 'Volkova',\n",
    "                 'age': 25,\n",
    "                 'salary': 60000,\n",
    "                 'position': 'junior'}\n",
    "\n",
    "print(salaries_dict)"
   ],
   "metadata": {
    "collapsed": false
   }
  },
  {
   "cell_type": "markdown",
   "source": [
    "### №11 Задания первого урока (1.4)\n",
    "\n",
    "Теперь усложним задачу. Создайте словарь, где:\n",
    "\n",
    "Ключом будет логин пользователя (login)\n",
    "В качестве значения – словарь с характеристиками (как на предыдущем шаге) для этого пользователя\n",
    "\n",
    "login     | name    | surname |  age | salary | position\n",
    "mvolkova  | Masha   | Volkova |  25  | 60000  | junior\n",
    "pvoronov  | Peter   | Voronov |  27  | 100000 | junior\n",
    "pparker   | Peter   | Parker  |  35  | 150000 | middle\n",
    "akarpov   | Anatoly | Karpov  |  30  | 250000 | senior\n",
    "\n",
    "Таким образом, по ключу мы сможем получить всю информацию о нужном пользователе. Обратиться к такому элементу можно, например, с помощью: users_dict['mvolkova']['name'], где в первых скобках указывается логин (первый ключ), а во вторых – название характеристики, значение которой мы хотим получить.\n",
    "\n",
    "Пример итоговой структуры:\n",
    "\n",
    "{ 'masha_volkova' : {'name' : 'Masha', ...}, 'peter_voronov' : {'name' : 'Peter', ...}, ... }\n",
    "\n",
    "Результат запишите в переменную users_dict."
   ],
   "metadata": {
    "collapsed": false
   }
  },
  {
   "cell_type": "code",
   "execution_count": 68,
   "outputs": [
    {
     "name": "stdout",
     "output_type": "stream",
     "text": [
      "{'mvolkova': {'name': 'Masha', 'surname': 'Volkova', 'age': 25, 'salary': 60000, 'position': 'junior'}, 'pvoronov': {'name': 'Peter', 'surname': 'Voronov', 'age': 27, 'salary': 100000, 'position': 'junior'}, 'pparker': {'name': 'Peter', 'surname': 'Parker', 'age': 35, 'salary': 150000, 'position': 'middle'}, 'akarpov': {'name': 'Anatoly', 'surname': 'Karpov', 'age': 30, 'salary': 250000, 'position': 'senior'}}\n"
     ]
    }
   ],
   "source": [
    "users_dict = dict({'mvolkova': {'name': 'Masha', 'surname': 'Volkova', 'age': 25, 'salary': 60000, 'position': 'junior'}, 'pvoronov': {'name': 'Peter', 'surname': 'Voronov', 'age': 27, 'salary': 100000, 'position': 'junior'}, 'pparker':  {'name': 'Peter', 'surname': 'Parker', 'age': 35, 'salary': 150000, 'position': 'middle'}, 'akarpov':  {'name': 'Anatoly', 'surname': 'Karpov', 'age': 30, 'salary': 250000, 'position': 'senior'}})\n",
    "\n",
    "print(users_dict)"
   ],
   "metadata": {
    "collapsed": false
   }
  }
 ],
 "metadata": {
  "kernelspec": {
   "display_name": "Python 3",
   "language": "python",
   "name": "python3"
  },
  "language_info": {
   "codemirror_mode": {
    "name": "ipython",
    "version": 2
   },
   "file_extension": ".py",
   "mimetype": "text/x-python",
   "name": "python",
   "nbconvert_exporter": "python",
   "pygments_lexer": "ipython2",
   "version": "2.7.6"
  }
 },
 "nbformat": 4,
 "nbformat_minor": 0
}
