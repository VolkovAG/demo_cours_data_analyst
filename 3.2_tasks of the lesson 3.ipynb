{
 "cells": [
  {
   "cell_type": "code",
   "execution_count": 238,
   "outputs": [],
   "source": [
    "import pandas as pd"
   ],
   "metadata": {
    "collapsed": false
   }
  },
  {
   "cell_type": "markdown",
   "source": [
    "---\n",
    "### №1 Задания третьего урока 3.3\n",
    "Строка names содержит имена в формате 'Name1 Surname1, Name2 Surname2, …'.\n",
    "Поместите в переменную names_list список со строками имён – **['Name1 Surname1', 'Name2 Surname2', …]**"
   ],
   "metadata": {
    "collapsed": false
   }
  },
  {
   "cell_type": "code",
   "execution_count": 239,
   "outputs": [
    {
     "data": {
      "text/plain": "['Name1 Surname1', 'Name2 Surname2']"
     },
     "execution_count": 239,
     "metadata": {},
     "output_type": "execute_result"
    }
   ],
   "source": [
    "names = 'Name1 Surname1, Name2 Surname2'\n",
    "names_list = names.split(', ')\n",
    "names_list"
   ],
   "metadata": {
    "collapsed": false
   }
  },
  {
   "cell_type": "markdown",
   "source": [
    "---\n",
    "### №2\n",
    "В переменной **df** содержатся данные следующего вида:\n",
    "\n",
    "  | client_id | sex | wealth | age\n",
    "0 |      9002 |  1  | medium | 62\n",
    "1 |      6722 |  1  |   high | 54\n",
    "2 |      8799 |  1  |   high | 62\n",
    "3 |      8737 |  0  |    low | 54\n",
    "4 |      5208 |  0  | medium | 37\n",
    "\n",
    "Отберите из них только те, где **wealth** принимает значение **'medium'**, а возраст составляет больше **35**. Поместите результат в переменную medium_35."
   ],
   "metadata": {
    "collapsed": false
   }
  },
  {
   "cell_type": "code",
   "execution_count": 240,
   "outputs": [],
   "source": [
    "# создадим таблицу в словаре и затем поместим ее в датафрейм переменной df\n",
    "tabl = {\n",
    "    0: {\"client_id\": 9002, \"sex\" : 1, \"wealth\" : 'medium', \"age\" : 63},\n",
    "    1: {\"client_id\": 6722, \"sex\" : 1, \"wealth\" : 'high', \"age\" : 54},\n",
    "    2: {\"client_id\": 8799, \"sex\" : 1, \"wealth\" : 'high', \"age\" : 62},\n",
    "    3: {\"client_id\": 8737, \"sex\" : 0, \"wealth\" : 'low', \"age\" : 54},\n",
    "    4: {\"client_id\": 5208, \"sex\" : 0, \"wealth\" : 'medium', \"age\" : 37}\n",
    "        }\n",
    "df = pd.DataFrame.from_dict(tabl, orient='index')"
   ],
   "metadata": {
    "collapsed": false
   }
  },
  {
   "cell_type": "code",
   "execution_count": 241,
   "outputs": [
    {
     "data": {
      "text/plain": "   client_id  sex  wealth  age\n0       9002    1  medium   63\n4       5208    0  medium   37",
      "text/html": "<div>\n<style scoped>\n    .dataframe tbody tr th:only-of-type {\n        vertical-align: middle;\n    }\n\n    .dataframe tbody tr th {\n        vertical-align: top;\n    }\n\n    .dataframe thead th {\n        text-align: right;\n    }\n</style>\n<table border=\"1\" class=\"dataframe\">\n  <thead>\n    <tr style=\"text-align: right;\">\n      <th></th>\n      <th>client_id</th>\n      <th>sex</th>\n      <th>wealth</th>\n      <th>age</th>\n    </tr>\n  </thead>\n  <tbody>\n    <tr>\n      <th>0</th>\n      <td>9002</td>\n      <td>1</td>\n      <td>medium</td>\n      <td>63</td>\n    </tr>\n    <tr>\n      <th>4</th>\n      <td>5208</td>\n      <td>0</td>\n      <td>medium</td>\n      <td>37</td>\n    </tr>\n  </tbody>\n</table>\n</div>"
     },
     "execution_count": 241,
     "metadata": {},
     "output_type": "execute_result"
    }
   ],
   "source": [
    "df.query(\"wealth == 'medium' and age > 35\")"
   ],
   "metadata": {
    "collapsed": false
   }
  },
  {
   "cell_type": "markdown",
   "source": [
    "---\n",
    "### №3\n",
    "Ваш коллега-новичок перепутал названия колонок в таблице df из предыдущих заданий и прислал вам такой вариант:\n",
    "**| Клиент_id | Пол | Благосостояние | Возраст**\n",
    "0 |      9002 |  1  |         medium | 62\n",
    "1 |      6722 |  1  |           high | 54\n",
    "2 |      8799 |  1  |           high | 62\n",
    "3 |      8737 |  0  |            low | 54\n",
    "4 |      5208 |  0  |         medium | 37\n",
    "\n",
    "Воспользуйтесь методом rename и приведите таблицу к более каноничному виду, сохранив её в ту же самую переменную df.\n",
    "  **| client_id | sex | wealth | age**\n"
   ],
   "metadata": {
    "collapsed": false
   }
  },
  {
   "cell_type": "code",
   "execution_count": 242,
   "outputs": [],
   "source": [
    "df = df.rename(columns={'Клиент id': 'client_id', 'Пол': 'sex', 'Благосостояние' : 'wealth', 'Возраст' : 'age'})"
   ],
   "metadata": {
    "collapsed": false
   }
  },
  {
   "cell_type": "markdown",
   "source": [
    "---\n",
    "### №4\n",
    "Добавьте в исследуемый нами датафрэйм df колонку **older_than_30**, в которой будет храниться информация о том, старше ли клиент 30 лет или нет (булево значение)."
   ],
   "metadata": {
    "collapsed": false
   }
  },
  {
   "cell_type": "code",
   "execution_count": 243,
   "outputs": [],
   "source": [
    "df =df.assign(older_than_30 = df.age > 30)"
   ],
   "metadata": {
    "collapsed": false
   }
  },
  {
   "cell_type": "markdown",
   "source": [
    "---\n",
    "### №5\n",
    "А теперь получите серию с числом уникальных значений для каждой колонки и присвойте её переменной **unique_num**"
   ],
   "metadata": {
    "collapsed": false
   }
  },
  {
   "cell_type": "code",
   "execution_count": 244,
   "outputs": [],
   "source": [
    "unique_num = df.nunique()"
   ],
   "metadata": {
    "collapsed": false
   }
  },
  {
   "cell_type": "markdown",
   "source": [
    "---\n",
    "### №6\n",
    "У нас появились новые данные! Переменная data хранит в себе датафрейм следующего вида:\n",
    "  | client_id | amount |    date    |\n",
    "0 |      5392 |  42331 | 1585425830 |\n",
    "1 |      9581 |  88420 | 1585429536 |\n",
    "2 |      7250 |  1714  | 1585427761 |\n",
    "3 |      8619 |  80572 | 1585427077 |\n",
    "4 |      6573 |  57549 | 1585426290 |\n",
    "Проведите inner join датафрейма data с df из предыдущего шага, объединив их по колонке **client_id**, и поместите результат в переменную **full_data**."
   ],
   "metadata": {
    "collapsed": false
   }
  },
  {
   "cell_type": "code",
   "execution_count": 245,
   "outputs": [],
   "source": [
    "# создадим словарь и поместим его в датафрейм дата\n",
    "data = {\n",
    "    0: {\"client_id\": 5392, \"amount\" : 42331, \"date\" : 1585425830},\n",
    "    1: {\"client_id\": 9581, \"amount\" : 88420, \"date\" : 1585429536},\n",
    "    2: {\"client_id\": 7250, \"amount\" : 1714, \"date\" : 1585427761},\n",
    "    3: {\"client_id\": 8619, \"amount\" : 80572, \"date\" : 1585427077},\n",
    "    4: {\"client_id\": 6573, \"amount\" : 57549, \"date\" : 1585426290}\n",
    "}\n",
    "data = pd.DataFrame.from_dict(data, orient='index')"
   ],
   "metadata": {
    "collapsed": false
   }
  },
  {
   "cell_type": "code",
   "execution_count": 246,
   "outputs": [],
   "source": [
    "# затем объединим предыдущую таблицу с новой data\n",
    "full_data = df.merge(data, on='client_id')"
   ],
   "metadata": {
    "collapsed": false
   }
  },
  {
   "cell_type": "markdown",
   "source": [
    "---\n",
    "### №7\n",
    "💀 Сложное задание! 💀\n",
    "\n",
    "А теперь создадим свою собственную функцию! Напишите функцию read_n_agg, которая:\n",
    "\n",
    "    принимает на вход один параметр – путь к файлу\n",
    "    считывает переданный файл, в котором разделителем является ;\n",
    "    считает средний заработок (income) по каждой компании (company), перенося колонку company в индекс (as_index=True)\n",
    "    возвращает результат этих действий (агрегированный датафрэйм)\n",
    "\n",
    "Данные находятся в data_set\\companies.csv"
   ],
   "metadata": {
    "collapsed": false
   }
  },
  {
   "cell_type": "code",
   "execution_count": 247,
   "outputs": [
    {
     "data": {
      "text/plain": "                                                income\ncompany                                               \nEn +                                      9.962187e+10\nАО «Александрова, Савельев и Мельникова»  7.206782e+10\nАО «Андреев-Анисимов»                     6.931948e+09\nАО «Андреев-Макарова»                     8.934380e+10\nАО «Большаков Кошелева»                   7.860861e+10\n...                                                ...\nЩекиноазот                                4.309092e+10\nЩукин Лимитед                             6.703036e+10\nЭйвон Бьюти Продактс Компани (Avon)       2.503657e+10\nЯковлева Инкорпорэйтед                    3.523436e+10\nЯкушев Лимитед                            3.876468e+10\n\n[289 rows x 1 columns]",
      "text/html": "<div>\n<style scoped>\n    .dataframe tbody tr th:only-of-type {\n        vertical-align: middle;\n    }\n\n    .dataframe tbody tr th {\n        vertical-align: top;\n    }\n\n    .dataframe thead th {\n        text-align: right;\n    }\n</style>\n<table border=\"1\" class=\"dataframe\">\n  <thead>\n    <tr style=\"text-align: right;\">\n      <th></th>\n      <th>income</th>\n    </tr>\n    <tr>\n      <th>company</th>\n      <th></th>\n    </tr>\n  </thead>\n  <tbody>\n    <tr>\n      <th>En +</th>\n      <td>9.962187e+10</td>\n    </tr>\n    <tr>\n      <th>АО «Александрова, Савельев и Мельникова»</th>\n      <td>7.206782e+10</td>\n    </tr>\n    <tr>\n      <th>АО «Андреев-Анисимов»</th>\n      <td>6.931948e+09</td>\n    </tr>\n    <tr>\n      <th>АО «Андреев-Макарова»</th>\n      <td>8.934380e+10</td>\n    </tr>\n    <tr>\n      <th>АО «Большаков Кошелева»</th>\n      <td>7.860861e+10</td>\n    </tr>\n    <tr>\n      <th>...</th>\n      <td>...</td>\n    </tr>\n    <tr>\n      <th>Щекиноазот</th>\n      <td>4.309092e+10</td>\n    </tr>\n    <tr>\n      <th>Щукин Лимитед</th>\n      <td>6.703036e+10</td>\n    </tr>\n    <tr>\n      <th>Эйвон Бьюти Продактс Компани (Avon)</th>\n      <td>2.503657e+10</td>\n    </tr>\n    <tr>\n      <th>Яковлева Инкорпорэйтед</th>\n      <td>3.523436e+10</td>\n    </tr>\n    <tr>\n      <th>Якушев Лимитед</th>\n      <td>3.876468e+10</td>\n    </tr>\n  </tbody>\n</table>\n<p>289 rows × 1 columns</p>\n</div>"
     },
     "execution_count": 247,
     "metadata": {},
     "output_type": "execute_result"
    }
   ],
   "source": [
    "def read_n_agg(path):\n",
    "    tmp = pd.read_csv(path, sep=';' )\n",
    "    tmp = tmp\\\n",
    "        .groupby('company', as_index=True)\\\n",
    "        .agg({'income':'mean'})\n",
    "    return tmp\n",
    "\n",
    "read_n_agg('data_set/companies.csv')"
   ],
   "metadata": {
    "collapsed": false
   }
  },
  {
   "cell_type": "markdown",
   "source": [
    "---\n",
    "### №8\n",
    "Вернёмся к данным о поездках на такси. На этот раз – из Перу, с рейтингами водителей, пассажиров, координатами, и парой других деталей!\n",
    "\n",
    "    journey_id – уникальный id поездки\n",
    "    user_id – id пользователя\n",
    "    driver_id – id водителя\n",
    "    taxi_id – id машины\n",
    "    icon – тип поездки\n",
    "    start_type – тип заказа (asap, reserved, delayed)\n",
    "    start_at – время начала поездки\n",
    "    start_lat – исходное местоположение пользователя, широта\n",
    "    start_lon – исходное местоположение пользователя, долгота\n",
    "    end_at – время окончания поездки\n",
    "    end_lat – итоговое местоположение, широта\n",
    "    end_lon – итоговое местоположение, долгота\n",
    "    end_state – состояние заказа\n",
    "    driver_start_lat – исходное местоположение водителя, широта\n",
    "    driver_start_lon – исходное местоположение водителя, долгота\n",
    "    arrived_at – время прибытия водителя\n",
    "    source – платформа, с которой сделан заказ\n",
    "    driver_score – оценка водителя клиентом\n",
    "    rider_score – оценка клиента водителем\n",
    "\n",
    "Импортируйте pandas как pd. Загрузите датасет taxi_peru.csv, используя; в качестве разделителя. Также укажите, что столбцы start_at,end_at, arrived_at нужно прочитать как даты (параметр parse_dates). Результат запишите в taxi."
   ],
   "metadata": {
    "collapsed": false
   }
  },
  {
   "cell_type": "code",
   "execution_count": 248,
   "outputs": [
    {
     "data": {
      "text/plain": "journey_id                  object\nuser_id                     object\ndriver_id                   object\ntaxi_id                     object\nicon                        object\nstart_type                  object\nstart_at            datetime64[ns]\nstart_lat                   object\nstart_lon                   object\nend_at              datetime64[ns]\nend_lat                     object\nend_lon                     object\nend_state                   object\ndriver_start_lat            object\ndriver_start_lon            object\narrived_at          datetime64[ns]\nsource                      object\ndriver_score               float64\nrider_score                float64\ndtype: object"
     },
     "execution_count": 248,
     "metadata": {},
     "output_type": "execute_result"
    }
   ],
   "source": [
    "taxi = pd.read_csv('data_set/taxi_peru.csv', sep=';', parse_dates=['start_at','end_at', 'arrived_at'])\n",
    "taxi.dtypes"
   ],
   "metadata": {
    "collapsed": false
   }
  },
  {
   "cell_type": "markdown",
   "source": [
    "---\n",
    "### №9\n",
    "Проверьте, с какой платформы было сделано больше всего заказов. В ответе укажите значение в %, округлённое до целого."
   ],
   "metadata": {
    "collapsed": false
   }
  },
  {
   "cell_type": "code",
   "execution_count": 249,
   "outputs": [
    {
     "data": {
      "text/plain": "iPhone     42.0\nweb        33.0\nAndroid    21.0\niPad        2.0\nWap         1.0\nName: source, dtype: float64"
     },
     "execution_count": 249,
     "metadata": {},
     "output_type": "execute_result"
    }
   ],
   "source": [
    "taxi.source.value_counts(normalize=True).round(2)*100"
   ],
   "metadata": {
    "collapsed": false
   }
  },
  {
   "cell_type": "markdown",
   "source": [
    "---\n",
    "### №10\n",
    "Чтобы показать разницу более наглядно, попробуем визуализировать показатели.\n",
    "Агрегируйте данные и постройте барчарт, где по оси **x** будет расположено название платформы (source), а по оси **y** – количество заказов (абсолютные значения).\n",
    "Какой график получился?"
   ],
   "metadata": {
    "collapsed": false
   }
  },
  {
   "cell_type": "code",
   "execution_count": 250,
   "outputs": [],
   "source": [
    "import seaborn as sns"
   ],
   "metadata": {
    "collapsed": false
   }
  },
  {
   "cell_type": "code",
   "execution_count": 251,
   "outputs": [
    {
     "name": "stderr",
     "output_type": "stream",
     "text": [
      "C:\\ProgramData\\Anaconda3\\lib\\site-packages\\seaborn\\_decorators.py:36: FutureWarning: Pass the following variable as a keyword arg: x. From version 0.12, the only valid positional argument will be `data`, and passing other arguments without an explicit keyword will result in an error or misinterpretation.\n",
      "  warnings.warn(\n"
     ]
    },
    {
     "data": {
      "text/plain": "<AxesSubplot:xlabel='source', ylabel='count'>"
     },
     "execution_count": 251,
     "metadata": {},
     "output_type": "execute_result"
    },
    {
     "data": {
      "text/plain": "<Figure size 432x288 with 1 Axes>",
      "image/png": "[encoded data removed]"
     },
     "metadata": {
      "needs_background": "light"
     },
     "output_type": "display_data"
    }
   ],
   "source": [
    "sns.countplot(taxi.source)"
   ],
   "metadata": {
    "collapsed": false
   }
  },
  {
   "cell_type": "markdown",
   "source": [
    "---\n",
    "### №11\n",
    "Альтернативный вариант построения распределения категориальной переменной – **sns.countplot**. В качестве единственного аргумента можно передать всего одну колонку: например, **source**, а количество значений для оси **y** функция посчитает самостоятельно.\n",
    "\n",
    "sns.countplot(taxi['source'])\n",
    "\n",
    "Какой тип поездки (icon) встречался чаще всего."
   ],
   "metadata": {
    "collapsed": false
   }
  },
  {
   "cell_type": "code",
   "execution_count": 252,
   "outputs": [
    {
     "name": "stderr",
     "output_type": "stream",
     "text": [
      "C:\\ProgramData\\Anaconda3\\lib\\site-packages\\seaborn\\_decorators.py:36: FutureWarning: Pass the following variable as a keyword arg: x. From version 0.12, the only valid positional argument will be `data`, and passing other arguments without an explicit keyword will result in an error or misinterpretation.\n",
      "  warnings.warn(\n"
     ]
    },
    {
     "data": {
      "text/plain": "<AxesSubplot:xlabel='icon', ylabel='count'>"
     },
     "execution_count": 252,
     "metadata": {},
     "output_type": "execute_result"
    },
    {
     "data": {
      "text/plain": "<Figure size 432x288 with 1 Axes>",
      "image/png": "[encoded data removed]"
     },
     "metadata": {
      "needs_background": "light"
     },
     "output_type": "display_data"
    }
   ],
   "source": [
    "sns.countplot(taxi.icon)"
   ],
   "metadata": {
    "collapsed": false
   }
  },
  {
   "cell_type": "markdown",
   "source": [
    "---\n",
    "### №12\n",
    "Теперь попробуем построить более сложный график!\n",
    "\n",
    "С помощью sns.countplot и параметра hue визуализируйте распределение переменной end_state (итоговое состояние заказа) в разбивке по платформам (source).\n",
    "\n",
    "Иными словами, по оси x расположите платформу, а в качестве цвета используйте состояние заказа. Далее выберите верные утверждения."
   ],
   "metadata": {
    "collapsed": false
   }
  },
  {
   "cell_type": "code",
   "execution_count": 253,
   "outputs": [
    {
     "data": {
      "text/plain": "<AxesSubplot:xlabel='end_state', ylabel='count'>"
     },
     "execution_count": 253,
     "metadata": {},
     "output_type": "execute_result"
    },
    {
     "data": {
      "text/plain": "<Figure size 432x288 with 1 Axes>",
      "image/png": "[encoded data removed]"
     },
     "metadata": {
      "needs_background": "light"
     },
     "output_type": "display_data"
    }
   ],
   "source": [
    "sns.countplot(data=taxi, x='end_state', hue='source')"
   ],
   "metadata": {
    "collapsed": false
   }
  },
  {
   "cell_type": "markdown",
   "source": [
    "---\n",
    "### №13\n",
    "Проверим, как распределены оценки водителей (driver_score). Для подготовки данных выполните следующие шаги:\n",
    "\n",
    "    Посчитайте частоту встречаемости каждой из оценок\n",
    "    Переведите в проценты и округлите до 2 знаков после точки (.mul(100).round(2))\n",
    "    Сбросьте индексы\n",
    "    Переименуйте колонки в driver_score и percentage\n",
    "    Отсортируйте по driver_score в порядке возрастания (от 0 до 5)\n",
    "    Запишите результат в driver_score_counts"
   ],
   "metadata": {
    "collapsed": false
   }
  },
  {
   "cell_type": "code",
   "execution_count": 254,
   "outputs": [
    {
     "data": {
      "text/plain": "   driver_score  percentage\n2           0.0       14.30\n4           1.0        1.23\n5           2.0        0.81\n3           3.0        2.97\n1           4.0       21.88\n0           5.0       58.81",
      "text/html": "<div>\n<style scoped>\n    .dataframe tbody tr th:only-of-type {\n        vertical-align: middle;\n    }\n\n    .dataframe tbody tr th {\n        vertical-align: top;\n    }\n\n    .dataframe thead th {\n        text-align: right;\n    }\n</style>\n<table border=\"1\" class=\"dataframe\">\n  <thead>\n    <tr style=\"text-align: right;\">\n      <th></th>\n      <th>driver_score</th>\n      <th>percentage</th>\n    </tr>\n  </thead>\n  <tbody>\n    <tr>\n      <th>2</th>\n      <td>0.0</td>\n      <td>14.30</td>\n    </tr>\n    <tr>\n      <th>4</th>\n      <td>1.0</td>\n      <td>1.23</td>\n    </tr>\n    <tr>\n      <th>5</th>\n      <td>2.0</td>\n      <td>0.81</td>\n    </tr>\n    <tr>\n      <th>3</th>\n      <td>3.0</td>\n      <td>2.97</td>\n    </tr>\n    <tr>\n      <th>1</th>\n      <td>4.0</td>\n      <td>21.88</td>\n    </tr>\n    <tr>\n      <th>0</th>\n      <td>5.0</td>\n      <td>58.81</td>\n    </tr>\n  </tbody>\n</table>\n</div>"
     },
     "execution_count": 254,
     "metadata": {},
     "output_type": "execute_result"
    }
   ],
   "source": [
    "driver_score_counts = taxi\\\n",
    "    .driver_score\\\n",
    "    .value_counts(normalize=True).mul(100).round(2)\\\n",
    "    .reset_index()\\\n",
    "    .rename(columns={'driver_score': 'percentage', 'index': 'driver_score'})\\\n",
    "    .sort_values(['driver_score'], ascending=[True])\n",
    "\n",
    "driver_score_counts"
   ],
   "metadata": {
    "collapsed": false
   }
  },
  {
   "cell_type": "markdown",
   "source": [
    "---\n",
    "### №14\n",
    "Теперь строим график! Сначала импортируем библиотеки:\n",
    "\n",
    "import seaborn as sns\n",
    "import matplotlib.pyplot as plt\n",
    "\n",
    "Укажите, какую из четырех строчек в нижепредставленном коде нужно исправить, чтобы получить следующий график:\n",
    "\n",
    "ax = sns.barplot(x=driver_score, y=percentage, data=driver_score_counts, color='blue', alpha=0.5)\n",
    "ax.set(xlabel='Driver score', ylabel='Percentage')\n",
    "sns.despine()  # убрать часть рамки графика\n",
    "plt.show()"
   ],
   "metadata": {
    "collapsed": false
   }
  },
  {
   "cell_type": "code",
   "execution_count": 255,
   "outputs": [],
   "source": [
    "import matplotlib.pyplot as plt"
   ],
   "metadata": {
    "collapsed": false
   }
  },
  {
   "cell_type": "code",
   "execution_count": 256,
   "outputs": [
    {
     "data": {
      "text/plain": "<Figure size 432x288 with 1 Axes>",
      "image/png": "[encoded data removed]"
     },
     "metadata": {
      "needs_background": "light"
     },
     "output_type": "display_data"
    }
   ],
   "source": [
    "ax = sns.barplot(x='driver_score', y='percentage', data=driver_score_counts, color='blue', alpha=0.5)\n",
    "ax.set(xlabel='Driver score', ylabel='Percentage')\n",
    "sns.despine() # убрать часть рамки графика plt.show()\n",
    "plt.show()"
   ],
   "metadata": {
    "collapsed": false
   }
  },
  {
   "cell_type": "markdown",
   "source": [
    "---\n",
    "### №15\n",
    "💀 Сложное задание! 💀\n",
    "Проделайте аналогичные шаги для rider_score (оценок клиентов водителями), не забыв построить график. В чем его отличие от распределения оценок водителей?"
   ],
   "metadata": {
    "collapsed": false
   }
  },
  {
   "cell_type": "code",
   "execution_count": 257,
   "outputs": [
    {
     "data": {
      "text/plain": "<Figure size 432x288 with 1 Axes>",
      "image/png": "[encoded data removed]"
     },
     "metadata": {
      "needs_background": "light"
     },
     "output_type": "display_data"
    }
   ],
   "source": [
    "rider_score_counts = \\\n",
    "taxi\\\n",
    "    .rider_score\\\n",
    "    .value_counts(normalize=True).mul(100).round(2)\\\n",
    "    .reset_index()\\\n",
    "    .rename(columns={'rider_score': 'percentage', 'index': 'rider_score'})\\\n",
    "    .sort_values(['rider_score'], ascending=[True])\n",
    "\n",
    "ax = sns.barplot(x='rider_score', y='percentage', data=rider_score_counts, color='blue', alpha=0.5)\n",
    "ax.set(xlabel='Rider score', ylabel='Percentage')\n",
    "sns.despine() # убрать часть рамки графика plt.show()\n",
    "plt.show()"
   ],
   "metadata": {
    "collapsed": false
   }
  },
  {
   "cell_type": "markdown",
   "source": [
    "Более 20% оценок составляют 4 = Не верно\n",
    "Водители ставят больше 0, чем клиенты = Не верно\n",
    "**Более чем в 80% случаев водители поставили клиентам 5 звездочек = Верно**\n",
    "**Водители ставят меньше 0, чем клиенты = Верно**"
   ],
   "metadata": {
    "collapsed": false
   }
  }
 ],
 "metadata": {
  "kernelspec": {
   "display_name": "Python 3",
   "language": "python",
   "name": "python3"
  },
  "language_info": {
   "codemirror_mode": {
    "name": "ipython",
    "version": 2
   },
   "file_extension": ".py",
   "mimetype": "text/x-python",
   "name": "python",
   "nbconvert_exporter": "python",
   "pygments_lexer": "ipython2",
   "version": "2.7.6"
  }
 },
 "nbformat": 4,
 "nbformat_minor": 0
}
