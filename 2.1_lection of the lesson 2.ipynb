{
 "cells": [
  {
   "cell_type": "markdown",
   "source": [
    "Погружаемся в библиотеку Pandas\n",
    "=\n",
    "___\n",
    "### 2.1.1 Считывание данных\n",
    "___\n",
    "\n",
    "<https://www.youtube.com/watch?v=m9-n2gW25BE&t=178s&ab_channel=AnatoliyKarpov>"
   ],
   "metadata": {
    "collapsed": false
   }
  },
  {
   "cell_type": "code",
   "execution_count": 1,
   "outputs": [],
   "source": [
    "from datetime import datetime\n",
    "import pandas as pd"
   ],
   "metadata": {
    "collapsed": false
   }
  },
  {
   "cell_type": "code",
   "execution_count": 5,
   "outputs": [],
   "source": [
    "df = pd.read_csv('data_set/lesson_2_data.csv', delimiter=';', encoding='windows-1251')"
   ],
   "metadata": {
    "collapsed": false
   }
  },
  {
   "cell_type": "code",
   "execution_count": 6,
   "outputs": [
    {
     "data": {
      "text/plain": "       Номер     Дата создания       Дата оплаты  \\\n0    1062823  01.12.2019 10:50  01.12.2019 10:52   \n1    1062855  01.12.2019 20:53  01.12.2019 21:27   \n2    1062856  01.12.2019 21:43               NaN   \n3    1062880   03.12.2019 0:18               NaN   \n4    1062899  03.12.2019 21:43               NaN   \n..       ...               ...               ...   \n287  1064720   30.12.2019 9:42  30.12.2019 12:49   \n288  1064724  30.12.2019 11:32               NaN   \n289  1064775   31.12.2019 2:17   31.12.2019 2:22   \n290  1064793  31.12.2019 16:40  01.01.2020 14:29   \n291  1064796  31.12.2019 17:29  31.12.2019 17:32   \n\n                                                 Title    Статус  Заработано  \\\n0                              Курс обучения «Эксперт»  Завершен    29597.50   \n1                              Курс обучения «Эксперт»  Завершен    17450.30   \n2                           Курс обучения «Специалист»   Отменен        0.00   \n3                          Курс обучения «Консультант»   Отменен        0.00   \n4                              Курс обучения «Эксперт»   Отменен        0.00   \n..                                                 ...       ...         ...   \n287  Подписка «ОНЛАЙН ДИЕТОЛОГ» с ежемесячным автос...  Завершен     2935.44   \n288                        Курс обучения «Консультант»   Отменен        0.00   \n289                        Курс обучения «Консультант»  Завершен     7423.92   \n290  Подписка «ОНЛАЙН ДИЕТОЛОГ» с ежемесячным автос...  Завершен     2935.44   \n291  Курс от Школы Диетологов. Повышение квалификац...  Завершен     9898.56   \n\n                             Город                 Платежная система  \n0                             Чита                Сбербанк эквайринг  \n1                        Краснодар                      Яндекс.Касса  \n2                              NaN                               NaN  \n3    г.Москва и Московская область                               NaN  \n4    г.Москва и Московская область                               NaN  \n..                             ...                               ...  \n287              Самарская область                      Яндекс.Касса  \n288                            NaN                               NaN  \n289                            NaN  Сбербанк эквайринг,Бонусный счет  \n290             Республика Карелия                      Яндекс.Касса  \n291                            Уфа  Сбербанк эквайринг,Бонусный счет  \n\n[292 rows x 8 columns]",
      "text/html": "<div>\n<style scoped>\n    .dataframe tbody tr th:only-of-type {\n        vertical-align: middle;\n    }\n\n    .dataframe tbody tr th {\n        vertical-align: top;\n    }\n\n    .dataframe thead th {\n        text-align: right;\n    }\n</style>\n<table border=\"1\" class=\"dataframe\">\n  <thead>\n    <tr style=\"text-align: right;\">\n      <th></th>\n      <th>Номер</th>\n      <th>Дата создания</th>\n      <th>Дата оплаты</th>\n      <th>Title</th>\n      <th>Статус</th>\n      <th>Заработано</th>\n      <th>Город</th>\n      <th>Платежная система</th>\n    </tr>\n  </thead>\n  <tbody>\n    <tr>\n      <th>0</th>\n      <td>1062823</td>\n      <td>01.12.2019 10:50</td>\n      <td>01.12.2019 10:52</td>\n      <td>Курс обучения «Эксперт»</td>\n      <td>Завершен</td>\n      <td>29597.50</td>\n      <td>Чита</td>\n      <td>Сбербанк эквайринг</td>\n    </tr>\n    <tr>\n      <th>1</th>\n      <td>1062855</td>\n      <td>01.12.2019 20:53</td>\n      <td>01.12.2019 21:27</td>\n      <td>Курс обучения «Эксперт»</td>\n      <td>Завершен</td>\n      <td>17450.30</td>\n      <td>Краснодар</td>\n      <td>Яндекс.Касса</td>\n    </tr>\n    <tr>\n      <th>2</th>\n      <td>1062856</td>\n      <td>01.12.2019 21:43</td>\n      <td>NaN</td>\n      <td>Курс обучения «Специалист»</td>\n      <td>Отменен</td>\n      <td>0.00</td>\n      <td>NaN</td>\n      <td>NaN</td>\n    </tr>\n    <tr>\n      <th>3</th>\n      <td>1062880</td>\n      <td>03.12.2019 0:18</td>\n      <td>NaN</td>\n      <td>Курс обучения «Консультант»</td>\n      <td>Отменен</td>\n      <td>0.00</td>\n      <td>г.Москва и Московская область</td>\n      <td>NaN</td>\n    </tr>\n    <tr>\n      <th>4</th>\n      <td>1062899</td>\n      <td>03.12.2019 21:43</td>\n      <td>NaN</td>\n      <td>Курс обучения «Эксперт»</td>\n      <td>Отменен</td>\n      <td>0.00</td>\n      <td>г.Москва и Московская область</td>\n      <td>NaN</td>\n    </tr>\n    <tr>\n      <th>...</th>\n      <td>...</td>\n      <td>...</td>\n      <td>...</td>\n      <td>...</td>\n      <td>...</td>\n      <td>...</td>\n      <td>...</td>\n      <td>...</td>\n    </tr>\n    <tr>\n      <th>287</th>\n      <td>1064720</td>\n      <td>30.12.2019 9:42</td>\n      <td>30.12.2019 12:49</td>\n      <td>Подписка «ОНЛАЙН ДИЕТОЛОГ» с ежемесячным автос...</td>\n      <td>Завершен</td>\n      <td>2935.44</td>\n      <td>Самарская область</td>\n      <td>Яндекс.Касса</td>\n    </tr>\n    <tr>\n      <th>288</th>\n      <td>1064724</td>\n      <td>30.12.2019 11:32</td>\n      <td>NaN</td>\n      <td>Курс обучения «Консультант»</td>\n      <td>Отменен</td>\n      <td>0.00</td>\n      <td>NaN</td>\n      <td>NaN</td>\n    </tr>\n    <tr>\n      <th>289</th>\n      <td>1064775</td>\n      <td>31.12.2019 2:17</td>\n      <td>31.12.2019 2:22</td>\n      <td>Курс обучения «Консультант»</td>\n      <td>Завершен</td>\n      <td>7423.92</td>\n      <td>NaN</td>\n      <td>Сбербанк эквайринг,Бонусный счет</td>\n    </tr>\n    <tr>\n      <th>290</th>\n      <td>1064793</td>\n      <td>31.12.2019 16:40</td>\n      <td>01.01.2020 14:29</td>\n      <td>Подписка «ОНЛАЙН ДИЕТОЛОГ» с ежемесячным автос...</td>\n      <td>Завершен</td>\n      <td>2935.44</td>\n      <td>Республика Карелия</td>\n      <td>Яндекс.Касса</td>\n    </tr>\n    <tr>\n      <th>291</th>\n      <td>1064796</td>\n      <td>31.12.2019 17:29</td>\n      <td>31.12.2019 17:32</td>\n      <td>Курс от Школы Диетологов. Повышение квалификац...</td>\n      <td>Завершен</td>\n      <td>9898.56</td>\n      <td>Уфа</td>\n      <td>Сбербанк эквайринг,Бонусный счет</td>\n    </tr>\n  </tbody>\n</table>\n<p>292 rows × 8 columns</p>\n</div>"
     },
     "execution_count": 6,
     "metadata": {},
     "output_type": "execute_result"
    }
   ],
   "source": [
    "df"
   ],
   "metadata": {
    "collapsed": false
   }
  },
  {
   "cell_type": "markdown",
   "source": [
    "### 2.1.2 Методы и атрибуты DataFrame, метод Rename\n",
    "___\n",
    "<https://www.youtube.com/watch?v=fuCpyHpL4XE&ab_channel=AnatoliyKarpov>"
   ],
   "metadata": {
    "collapsed": false
   }
  },
  {
   "cell_type": "code",
   "execution_count": 9,
   "outputs": [
    {
     "data": {
      "text/plain": "     Номер     Дата создания       Дата оплаты                        Title  \\\n0  1062823  01.12.2019 10:50  01.12.2019 10:52      Курс обучения «Эксперт»   \n1  1062855  01.12.2019 20:53  01.12.2019 21:27      Курс обучения «Эксперт»   \n2  1062856  01.12.2019 21:43               NaN   Курс обучения «Специалист»   \n3  1062880   03.12.2019 0:18               NaN  Курс обучения «Консультант»   \n4  1062899  03.12.2019 21:43               NaN      Курс обучения «Эксперт»   \n\n     Статус  Заработано                          Город   Платежная система  \n0  Завершен     29597.5                           Чита  Сбербанк эквайринг  \n1  Завершен     17450.3                      Краснодар        Яндекс.Касса  \n2   Отменен         0.0                            NaN                 NaN  \n3   Отменен         0.0  г.Москва и Московская область                 NaN  \n4   Отменен         0.0  г.Москва и Московская область                 NaN  ",
      "text/html": "<div>\n<style scoped>\n    .dataframe tbody tr th:only-of-type {\n        vertical-align: middle;\n    }\n\n    .dataframe tbody tr th {\n        vertical-align: top;\n    }\n\n    .dataframe thead th {\n        text-align: right;\n    }\n</style>\n<table border=\"1\" class=\"dataframe\">\n  <thead>\n    <tr style=\"text-align: right;\">\n      <th></th>\n      <th>Номер</th>\n      <th>Дата создания</th>\n      <th>Дата оплаты</th>\n      <th>Title</th>\n      <th>Статус</th>\n      <th>Заработано</th>\n      <th>Город</th>\n      <th>Платежная система</th>\n    </tr>\n  </thead>\n  <tbody>\n    <tr>\n      <th>0</th>\n      <td>1062823</td>\n      <td>01.12.2019 10:50</td>\n      <td>01.12.2019 10:52</td>\n      <td>Курс обучения «Эксперт»</td>\n      <td>Завершен</td>\n      <td>29597.5</td>\n      <td>Чита</td>\n      <td>Сбербанк эквайринг</td>\n    </tr>\n    <tr>\n      <th>1</th>\n      <td>1062855</td>\n      <td>01.12.2019 20:53</td>\n      <td>01.12.2019 21:27</td>\n      <td>Курс обучения «Эксперт»</td>\n      <td>Завершен</td>\n      <td>17450.3</td>\n      <td>Краснодар</td>\n      <td>Яндекс.Касса</td>\n    </tr>\n    <tr>\n      <th>2</th>\n      <td>1062856</td>\n      <td>01.12.2019 21:43</td>\n      <td>NaN</td>\n      <td>Курс обучения «Специалист»</td>\n      <td>Отменен</td>\n      <td>0.0</td>\n      <td>NaN</td>\n      <td>NaN</td>\n    </tr>\n    <tr>\n      <th>3</th>\n      <td>1062880</td>\n      <td>03.12.2019 0:18</td>\n      <td>NaN</td>\n      <td>Курс обучения «Консультант»</td>\n      <td>Отменен</td>\n      <td>0.0</td>\n      <td>г.Москва и Московская область</td>\n      <td>NaN</td>\n    </tr>\n    <tr>\n      <th>4</th>\n      <td>1062899</td>\n      <td>03.12.2019 21:43</td>\n      <td>NaN</td>\n      <td>Курс обучения «Эксперт»</td>\n      <td>Отменен</td>\n      <td>0.0</td>\n      <td>г.Москва и Московская область</td>\n      <td>NaN</td>\n    </tr>\n  </tbody>\n</table>\n</div>"
     },
     "execution_count": 9,
     "metadata": {},
     "output_type": "execute_result"
    }
   ],
   "source": [
    "df.head() #смотрим первые пять записей данных таблицы"
   ],
   "metadata": {
    "collapsed": false
   }
  },
  {
   "cell_type": "code",
   "execution_count": 8,
   "outputs": [
    {
     "data": {
      "text/plain": "       Номер     Дата создания       Дата оплаты  \\\n287  1064720   30.12.2019 9:42  30.12.2019 12:49   \n288  1064724  30.12.2019 11:32               NaN   \n289  1064775   31.12.2019 2:17   31.12.2019 2:22   \n290  1064793  31.12.2019 16:40  01.01.2020 14:29   \n291  1064796  31.12.2019 17:29  31.12.2019 17:32   \n\n                                                 Title    Статус  Заработано  \\\n287  Подписка «ОНЛАЙН ДИЕТОЛОГ» с ежемесячным автос...  Завершен     2935.44   \n288                        Курс обучения «Консультант»   Отменен        0.00   \n289                        Курс обучения «Консультант»  Завершен     7423.92   \n290  Подписка «ОНЛАЙН ДИЕТОЛОГ» с ежемесячным автос...  Завершен     2935.44   \n291  Курс от Школы Диетологов. Повышение квалификац...  Завершен     9898.56   \n\n                  Город                 Платежная система  \n287   Самарская область                      Яндекс.Касса  \n288                 NaN                               NaN  \n289                 NaN  Сбербанк эквайринг,Бонусный счет  \n290  Республика Карелия                      Яндекс.Касса  \n291                 Уфа  Сбербанк эквайринг,Бонусный счет  ",
      "text/html": "<div>\n<style scoped>\n    .dataframe tbody tr th:only-of-type {\n        vertical-align: middle;\n    }\n\n    .dataframe tbody tr th {\n        vertical-align: top;\n    }\n\n    .dataframe thead th {\n        text-align: right;\n    }\n</style>\n<table border=\"1\" class=\"dataframe\">\n  <thead>\n    <tr style=\"text-align: right;\">\n      <th></th>\n      <th>Номер</th>\n      <th>Дата создания</th>\n      <th>Дата оплаты</th>\n      <th>Title</th>\n      <th>Статус</th>\n      <th>Заработано</th>\n      <th>Город</th>\n      <th>Платежная система</th>\n    </tr>\n  </thead>\n  <tbody>\n    <tr>\n      <th>287</th>\n      <td>1064720</td>\n      <td>30.12.2019 9:42</td>\n      <td>30.12.2019 12:49</td>\n      <td>Подписка «ОНЛАЙН ДИЕТОЛОГ» с ежемесячным автос...</td>\n      <td>Завершен</td>\n      <td>2935.44</td>\n      <td>Самарская область</td>\n      <td>Яндекс.Касса</td>\n    </tr>\n    <tr>\n      <th>288</th>\n      <td>1064724</td>\n      <td>30.12.2019 11:32</td>\n      <td>NaN</td>\n      <td>Курс обучения «Консультант»</td>\n      <td>Отменен</td>\n      <td>0.00</td>\n      <td>NaN</td>\n      <td>NaN</td>\n    </tr>\n    <tr>\n      <th>289</th>\n      <td>1064775</td>\n      <td>31.12.2019 2:17</td>\n      <td>31.12.2019 2:22</td>\n      <td>Курс обучения «Консультант»</td>\n      <td>Завершен</td>\n      <td>7423.92</td>\n      <td>NaN</td>\n      <td>Сбербанк эквайринг,Бонусный счет</td>\n    </tr>\n    <tr>\n      <th>290</th>\n      <td>1064793</td>\n      <td>31.12.2019 16:40</td>\n      <td>01.01.2020 14:29</td>\n      <td>Подписка «ОНЛАЙН ДИЕТОЛОГ» с ежемесячным автос...</td>\n      <td>Завершен</td>\n      <td>2935.44</td>\n      <td>Республика Карелия</td>\n      <td>Яндекс.Касса</td>\n    </tr>\n    <tr>\n      <th>291</th>\n      <td>1064796</td>\n      <td>31.12.2019 17:29</td>\n      <td>31.12.2019 17:32</td>\n      <td>Курс от Школы Диетологов. Повышение квалификац...</td>\n      <td>Завершен</td>\n      <td>9898.56</td>\n      <td>Уфа</td>\n      <td>Сбербанк эквайринг,Бонусный счет</td>\n    </tr>\n  </tbody>\n</table>\n</div>"
     },
     "execution_count": 8,
     "metadata": {},
     "output_type": "execute_result"
    }
   ],
   "source": [
    "df.tail() #смотрим последние пять записей данных таблицы"
   ],
   "metadata": {
    "collapsed": false
   }
  },
  {
   "cell_type": "code",
   "execution_count": 10,
   "outputs": [
    {
     "data": {
      "text/plain": "(292, 8)"
     },
     "execution_count": 10,
     "metadata": {},
     "output_type": "execute_result"
    }
   ],
   "source": [
    "df.shape #смотрим в таблице (количество срок, и колонок)"
   ],
   "metadata": {
    "collapsed": false
   }
  },
  {
   "cell_type": "markdown",
   "source": [
    "#### Посмотреть список методов pandas Data frame можно на сайте\n",
    "<https://pandas.pydata.org/docs/reference/frame.html>"
   ],
   "metadata": {
    "collapsed": false
   }
  },
  {
   "cell_type": "code",
   "execution_count": 11,
   "outputs": [
    {
     "data": {
      "text/plain": "Номер                  int64\nДата создания         object\nДата оплаты           object\nTitle                 object\nСтатус                object\nЗаработано           float64\nГород                 object\nПлатежная система     object\ndtype: object"
     },
     "execution_count": 11,
     "metadata": {},
     "output_type": "execute_result"
    }
   ],
   "source": [
    "df.dtypes #возвращаем тип данных"
   ],
   "metadata": {
    "collapsed": false
   }
  },
  {
   "cell_type": "code",
   "execution_count": 12,
   "outputs": [
    {
     "data": {
      "text/plain": "              Номер    Заработано\ncount  2.920000e+02    292.000000\nmean   1.063745e+06   3397.615034\nstd    4.438688e+02   5771.572829\nmin    1.062823e+06      0.000000\n25%    1.063608e+06      0.000000\n50%    1.063698e+06   2935.440000\n75%    1.063807e+06   2935.440000\nmax    1.064796e+06  42750.000000",
      "text/html": "<div>\n<style scoped>\n    .dataframe tbody tr th:only-of-type {\n        vertical-align: middle;\n    }\n\n    .dataframe tbody tr th {\n        vertical-align: top;\n    }\n\n    .dataframe thead th {\n        text-align: right;\n    }\n</style>\n<table border=\"1\" class=\"dataframe\">\n  <thead>\n    <tr style=\"text-align: right;\">\n      <th></th>\n      <th>Номер</th>\n      <th>Заработано</th>\n    </tr>\n  </thead>\n  <tbody>\n    <tr>\n      <th>count</th>\n      <td>2.920000e+02</td>\n      <td>292.000000</td>\n    </tr>\n    <tr>\n      <th>mean</th>\n      <td>1.063745e+06</td>\n      <td>3397.615034</td>\n    </tr>\n    <tr>\n      <th>std</th>\n      <td>4.438688e+02</td>\n      <td>5771.572829</td>\n    </tr>\n    <tr>\n      <th>min</th>\n      <td>1.062823e+06</td>\n      <td>0.000000</td>\n    </tr>\n    <tr>\n      <th>25%</th>\n      <td>1.063608e+06</td>\n      <td>0.000000</td>\n    </tr>\n    <tr>\n      <th>50%</th>\n      <td>1.063698e+06</td>\n      <td>2935.440000</td>\n    </tr>\n    <tr>\n      <th>75%</th>\n      <td>1.063807e+06</td>\n      <td>2935.440000</td>\n    </tr>\n    <tr>\n      <th>max</th>\n      <td>1.064796e+06</td>\n      <td>42750.000000</td>\n    </tr>\n  </tbody>\n</table>\n</div>"
     },
     "execution_count": 12,
     "metadata": {},
     "output_type": "execute_result"
    }
   ],
   "source": [
    "df.describe() #Создание описательной статистики"
   ],
   "metadata": {
    "collapsed": false
   }
  },
  {
   "cell_type": "markdown",
   "source": [
    "#### Переименуем колонки с помощью функции rename\n",
    "<https://pandas.pydata.org/docs/reference/api/pandas.DataFrame.rename.html#pandas.DataFrame.rename>"
   ],
   "metadata": {
    "collapsed": false
   }
  },
  {
   "cell_type": "code",
   "execution_count": 13,
   "outputs": [
    {
     "data": {
      "text/plain": "Index(['Номер', 'Дата создания', 'Дата оплаты', 'Title', 'Статус',\n       'Заработано', 'Город', 'Платежная система'],\n      dtype='object')"
     },
     "execution_count": 13,
     "metadata": {},
     "output_type": "execute_result"
    }
   ],
   "source": [
    "df.columns"
   ],
   "metadata": {
    "collapsed": false
   }
  },
  {
   "cell_type": "code",
   "execution_count": 14,
   "outputs": [],
   "source": [
    "df = df.rename(columns={'Номер': 'number',\n",
    "               'Дата создания': 'create_date',\n",
    "               'Дата оплаты': 'payment_date',\n",
    "               'Title': 'title',\n",
    "               'Статус': 'status',\n",
    "               'Заработано': 'money',\n",
    "               'Город': 'city',\n",
    "               'Платежная система': 'payment_system'})"
   ],
   "metadata": {
    "collapsed": false
   }
  },
  {
   "cell_type": "code",
   "execution_count": 17,
   "outputs": [
    {
     "data": {
      "text/plain": "number              int64\ncreate_date        object\npayment_date       object\ntitle              object\nstatus             object\nmoney             float64\ncity               object\npayment_system     object\ndtype: object"
     },
     "execution_count": 17,
     "metadata": {},
     "output_type": "execute_result"
    }
   ],
   "source": [
    "df.dtypes #проверим измененные колонки"
   ],
   "metadata": {
    "collapsed": false
   }
  },
  {
   "cell_type": "code",
   "execution_count": 18,
   "outputs": [
    {
     "data": {
      "text/plain": "                         title    status\n0      Курс обучения «Эксперт»  Завершен\n1      Курс обучения «Эксперт»  Завершен\n2   Курс обучения «Специалист»   Отменен\n3  Курс обучения «Консультант»   Отменен\n4      Курс обучения «Эксперт»   Отменен",
      "text/html": "<div>\n<style scoped>\n    .dataframe tbody tr th:only-of-type {\n        vertical-align: middle;\n    }\n\n    .dataframe tbody tr th {\n        vertical-align: top;\n    }\n\n    .dataframe thead th {\n        text-align: right;\n    }\n</style>\n<table border=\"1\" class=\"dataframe\">\n  <thead>\n    <tr style=\"text-align: right;\">\n      <th></th>\n      <th>title</th>\n      <th>status</th>\n    </tr>\n  </thead>\n  <tbody>\n    <tr>\n      <th>0</th>\n      <td>Курс обучения «Эксперт»</td>\n      <td>Завершен</td>\n    </tr>\n    <tr>\n      <th>1</th>\n      <td>Курс обучения «Эксперт»</td>\n      <td>Завершен</td>\n    </tr>\n    <tr>\n      <th>2</th>\n      <td>Курс обучения «Специалист»</td>\n      <td>Отменен</td>\n    </tr>\n    <tr>\n      <th>3</th>\n      <td>Курс обучения «Консультант»</td>\n      <td>Отменен</td>\n    </tr>\n    <tr>\n      <th>4</th>\n      <td>Курс обучения «Эксперт»</td>\n      <td>Отменен</td>\n    </tr>\n  </tbody>\n</table>\n</div>"
     },
     "execution_count": 18,
     "metadata": {},
     "output_type": "execute_result"
    }
   ],
   "source": [
    "df[['title', 'status']].head() #обратимся к определенным колонкам"
   ],
   "metadata": {
    "collapsed": false
   }
  },
  {
   "cell_type": "code",
   "execution_count": 29,
   "outputs": [
    {
     "data": {
      "text/plain": "<bound method NDFrame.head of 0      Завершен\n1      Завершен\n2       Отменен\n3       Отменен\n4       Отменен\n         ...   \n287    Завершен\n288     Отменен\n289    Завершен\n290    Завершен\n291    Завершен\nName: status, Length: 292, dtype: object>"
     },
     "execution_count": 29,
     "metadata": {},
     "output_type": "execute_result"
    }
   ],
   "source": [
    "df.status.head #можно вызвать одну колонку таким способом"
   ],
   "metadata": {
    "collapsed": false
   }
  },
  {
   "cell_type": "markdown",
   "source": [
    "### 2.1.3 Группировка, Агрегация, сортировка данных\n",
    "___\n",
    "<https://www.youtube.com/watch?v=hhGPlBA_qyE&ab_channel=AnatoliyKarpov>>"
   ],
   "metadata": {
    "collapsed": false
   }
  },
  {
   "cell_type": "code",
   "execution_count": 32,
   "outputs": [],
   "source": [
    "all_money = df.money.sum() #добавим сумму всех заработанных денег в переменную [all_money]"
   ],
   "metadata": {
    "collapsed": false
   }
  },
  {
   "cell_type": "code",
   "execution_count": 35,
   "outputs": [
    {
     "data": {
      "text/plain": "992103.5900000001"
     },
     "execution_count": 35,
     "metadata": {},
     "output_type": "execute_result"
    }
   ],
   "source": [
    "all_money"
   ],
   "metadata": {
    "collapsed": false
   }
  },
  {
   "cell_type": "markdown",
   "source": [
    "**Сделаем запрос по анализу данных:**\n",
    "- cгруппируем таблицу по полю **.groupby('title'** и укажем создание индекса **, as_index=False)**\n",
    "- посчитаем суммы сгруппированного поля **.aggregate({'money':'sum'})**\n",
    "- отсортируем полученный результат **.sort_values('money'** по убыванию **, ascending=False**"
   ],
   "metadata": {
    "collapsed": false
   }
  },
  {
   "cell_type": "code",
   "execution_count": 39,
   "outputs": [
    {
     "data": {
      "text/plain": "                                               title      money\n5  Подписка «ОНЛАЙН ДИЕТОЛОГ» с ежемесячным автос...  366947.20\n0                        Курс обучения «Консультант»  208163.49\n1                         Курс обучения «Специалист»  160862.64\n2                            Курс обучения «Эксперт»  148992.80\n4  Курс от Школы Диетологов. Повышение квалификац...   88384.92\n3                   Курс от Школы Диетологов. Бизнес   18752.54",
      "text/html": "<div>\n<style scoped>\n    .dataframe tbody tr th:only-of-type {\n        vertical-align: middle;\n    }\n\n    .dataframe tbody tr th {\n        vertical-align: top;\n    }\n\n    .dataframe thead th {\n        text-align: right;\n    }\n</style>\n<table border=\"1\" class=\"dataframe\">\n  <thead>\n    <tr style=\"text-align: right;\">\n      <th></th>\n      <th>title</th>\n      <th>money</th>\n    </tr>\n  </thead>\n  <tbody>\n    <tr>\n      <th>5</th>\n      <td>Подписка «ОНЛАЙН ДИЕТОЛОГ» с ежемесячным автос...</td>\n      <td>366947.20</td>\n    </tr>\n    <tr>\n      <th>0</th>\n      <td>Курс обучения «Консультант»</td>\n      <td>208163.49</td>\n    </tr>\n    <tr>\n      <th>1</th>\n      <td>Курс обучения «Специалист»</td>\n      <td>160862.64</td>\n    </tr>\n    <tr>\n      <th>2</th>\n      <td>Курс обучения «Эксперт»</td>\n      <td>148992.80</td>\n    </tr>\n    <tr>\n      <th>4</th>\n      <td>Курс от Школы Диетологов. Повышение квалификац...</td>\n      <td>88384.92</td>\n    </tr>\n    <tr>\n      <th>3</th>\n      <td>Курс от Школы Диетологов. Бизнес</td>\n      <td>18752.54</td>\n    </tr>\n  </tbody>\n</table>\n</div>"
     },
     "execution_count": 39,
     "metadata": {},
     "output_type": "execute_result"
    }
   ],
   "source": [
    "df.groupby('title', as_index=False).aggregate({'money':'sum'}).sort_values('money', ascending=False)"
   ],
   "metadata": {
    "collapsed": false
   }
  },
  {
   "cell_type": "markdown",
   "source": [
    ">Оформим запрос с переносом строки используя обратный слеш, для большей читаемости кода и добавим еще одну колонку объединив названия полей в квадратные скобки"
   ],
   "metadata": {
    "collapsed": false
   }
  },
  {
   "cell_type": "code",
   "execution_count": 41,
   "outputs": [
    {
     "data": {
      "text/plain": "                                                 title  \\\n51                             Курс обучения «Эксперт»   \n156  Подписка «ОНЛАЙН ДИЕТОЛОГ» с ежемесячным автос...   \n39                             Курс обучения «Эксперт»   \n95   Подписка «ОНЛАЙН ДИЕТОЛОГ» с ежемесячным автос...   \n30                          Курс обучения «Специалист»   \n..                                                 ...   \n63   Курс от Школы Диетологов. Повышение квалификац...   \n61   Курс от Школы Диетологов. Повышение квалификац...   \n55                    Курс от Школы Диетологов. Бизнес   \n54                    Курс от Школы Диетологов. Бизнес   \n158  Подписка «ОНЛАЙН ДИЕТОЛОГ» с ежемесячным автос...   \n\n                                          city     money  \n51   г.Санкт-Петербург и Ленинградская область  59195.00  \n156              г.Москва и Московская область  46967.04  \n39                                      Балхаш  42750.00  \n95                          Краснодарский край  38169.78  \n30                                   Краснодар  29695.70  \n..                                         ...       ...  \n63                                    Кемерово      0.00  \n61                               Екатеринбург       0.00  \n55                              Крым Советский      0.00  \n54                                        Киев      0.00  \n158                            нижний Новгород      0.00  \n\n[159 rows x 3 columns]",
      "text/html": "<div>\n<style scoped>\n    .dataframe tbody tr th:only-of-type {\n        vertical-align: middle;\n    }\n\n    .dataframe tbody tr th {\n        vertical-align: top;\n    }\n\n    .dataframe thead th {\n        text-align: right;\n    }\n</style>\n<table border=\"1\" class=\"dataframe\">\n  <thead>\n    <tr style=\"text-align: right;\">\n      <th></th>\n      <th>title</th>\n      <th>city</th>\n      <th>money</th>\n    </tr>\n  </thead>\n  <tbody>\n    <tr>\n      <th>51</th>\n      <td>Курс обучения «Эксперт»</td>\n      <td>г.Санкт-Петербург и Ленинградская область</td>\n      <td>59195.00</td>\n    </tr>\n    <tr>\n      <th>156</th>\n      <td>Подписка «ОНЛАЙН ДИЕТОЛОГ» с ежемесячным автос...</td>\n      <td>г.Москва и Московская область</td>\n      <td>46967.04</td>\n    </tr>\n    <tr>\n      <th>39</th>\n      <td>Курс обучения «Эксперт»</td>\n      <td>Балхаш</td>\n      <td>42750.00</td>\n    </tr>\n    <tr>\n      <th>95</th>\n      <td>Подписка «ОНЛАЙН ДИЕТОЛОГ» с ежемесячным автос...</td>\n      <td>Краснодарский край</td>\n      <td>38169.78</td>\n    </tr>\n    <tr>\n      <th>30</th>\n      <td>Курс обучения «Специалист»</td>\n      <td>Краснодар</td>\n      <td>29695.70</td>\n    </tr>\n    <tr>\n      <th>...</th>\n      <td>...</td>\n      <td>...</td>\n      <td>...</td>\n    </tr>\n    <tr>\n      <th>63</th>\n      <td>Курс от Школы Диетологов. Повышение квалификац...</td>\n      <td>Кемерово</td>\n      <td>0.00</td>\n    </tr>\n    <tr>\n      <th>61</th>\n      <td>Курс от Школы Диетологов. Повышение квалификац...</td>\n      <td>Екатеринбург</td>\n      <td>0.00</td>\n    </tr>\n    <tr>\n      <th>55</th>\n      <td>Курс от Школы Диетологов. Бизнес</td>\n      <td>Крым Советский</td>\n      <td>0.00</td>\n    </tr>\n    <tr>\n      <th>54</th>\n      <td>Курс от Школы Диетологов. Бизнес</td>\n      <td>Киев</td>\n      <td>0.00</td>\n    </tr>\n    <tr>\n      <th>158</th>\n      <td>Подписка «ОНЛАЙН ДИЕТОЛОГ» с ежемесячным автос...</td>\n      <td>нижний Новгород</td>\n      <td>0.00</td>\n    </tr>\n  </tbody>\n</table>\n<p>159 rows × 3 columns</p>\n</div>"
     },
     "execution_count": 41,
     "metadata": {},
     "output_type": "execute_result"
    }
   ],
   "source": [
    "df \\\n",
    "    .groupby(['title','city'], as_index=False)\\\n",
    "    .aggregate({'money':'sum'})\\\n",
    "    .sort_values('money', ascending=False)"
   ],
   "metadata": {
    "collapsed": false
   }
  },
  {
   "cell_type": "markdown",
   "source": [
    ">Теперь сохраним результат в отдельную переменную **money_by_city**"
   ],
   "metadata": {
    "collapsed": false
   }
  },
  {
   "cell_type": "code",
   "execution_count": 42,
   "outputs": [],
   "source": [
    "money_by_city = df \\\n",
    "    .groupby(['title','city'], as_index=False)\\\n",
    "    .aggregate({'money':'sum'})\\\n",
    "    .sort_values('money', ascending=False)"
   ],
   "metadata": {
    "collapsed": false
   }
  },
  {
   "cell_type": "code",
   "execution_count": 47,
   "outputs": [
    {
     "data": {
      "text/plain": "                                                 title  \\\n51                             Курс обучения «Эксперт»   \n156  Подписка «ОНЛАЙН ДИЕТОЛОГ» с ежемесячным автос...   \n39                             Курс обучения «Эксперт»   \n95   Подписка «ОНЛАЙН ДИЕТОЛОГ» с ежемесячным автос...   \n30                          Курс обучения «Специалист»   \n..                                                 ...   \n63   Курс от Школы Диетологов. Повышение квалификац...   \n61   Курс от Школы Диетологов. Повышение квалификац...   \n55                    Курс от Школы Диетологов. Бизнес   \n54                    Курс от Школы Диетологов. Бизнес   \n158  Подписка «ОНЛАЙН ДИЕТОЛОГ» с ежемесячным автос...   \n\n                                          city     money  \n51   г.Санкт-Петербург и Ленинградская область  59195.00  \n156              г.Москва и Московская область  46967.04  \n39                                      Балхаш  42750.00  \n95                          Краснодарский край  38169.78  \n30                                   Краснодар  29695.70  \n..                                         ...       ...  \n63                                    Кемерово      0.00  \n61                               Екатеринбург       0.00  \n55                              Крым Советский      0.00  \n54                                        Киев      0.00  \n158                            нижний Новгород      0.00  \n\n[159 rows x 3 columns]",
      "text/html": "<div>\n<style scoped>\n    .dataframe tbody tr th:only-of-type {\n        vertical-align: middle;\n    }\n\n    .dataframe tbody tr th {\n        vertical-align: top;\n    }\n\n    .dataframe thead th {\n        text-align: right;\n    }\n</style>\n<table border=\"1\" class=\"dataframe\">\n  <thead>\n    <tr style=\"text-align: right;\">\n      <th></th>\n      <th>title</th>\n      <th>city</th>\n      <th>money</th>\n    </tr>\n  </thead>\n  <tbody>\n    <tr>\n      <th>51</th>\n      <td>Курс обучения «Эксперт»</td>\n      <td>г.Санкт-Петербург и Ленинградская область</td>\n      <td>59195.00</td>\n    </tr>\n    <tr>\n      <th>156</th>\n      <td>Подписка «ОНЛАЙН ДИЕТОЛОГ» с ежемесячным автос...</td>\n      <td>г.Москва и Московская область</td>\n      <td>46967.04</td>\n    </tr>\n    <tr>\n      <th>39</th>\n      <td>Курс обучения «Эксперт»</td>\n      <td>Балхаш</td>\n      <td>42750.00</td>\n    </tr>\n    <tr>\n      <th>95</th>\n      <td>Подписка «ОНЛАЙН ДИЕТОЛОГ» с ежемесячным автос...</td>\n      <td>Краснодарский край</td>\n      <td>38169.78</td>\n    </tr>\n    <tr>\n      <th>30</th>\n      <td>Курс обучения «Специалист»</td>\n      <td>Краснодар</td>\n      <td>29695.70</td>\n    </tr>\n    <tr>\n      <th>...</th>\n      <td>...</td>\n      <td>...</td>\n      <td>...</td>\n    </tr>\n    <tr>\n      <th>63</th>\n      <td>Курс от Школы Диетологов. Повышение квалификац...</td>\n      <td>Кемерово</td>\n      <td>0.00</td>\n    </tr>\n    <tr>\n      <th>61</th>\n      <td>Курс от Школы Диетологов. Повышение квалификац...</td>\n      <td>Екатеринбург</td>\n      <td>0.00</td>\n    </tr>\n    <tr>\n      <th>55</th>\n      <td>Курс от Школы Диетологов. Бизнес</td>\n      <td>Крым Советский</td>\n      <td>0.00</td>\n    </tr>\n    <tr>\n      <th>54</th>\n      <td>Курс от Школы Диетологов. Бизнес</td>\n      <td>Киев</td>\n      <td>0.00</td>\n    </tr>\n    <tr>\n      <th>158</th>\n      <td>Подписка «ОНЛАЙН ДИЕТОЛОГ» с ежемесячным автос...</td>\n      <td>нижний Новгород</td>\n      <td>0.00</td>\n    </tr>\n  </tbody>\n</table>\n<p>159 rows × 3 columns</p>\n</div>"
     },
     "execution_count": 47,
     "metadata": {},
     "output_type": "execute_result"
    }
   ],
   "source": [
    "money_by_city #проверим результат, что он в переменной"
   ],
   "metadata": {
    "collapsed": false
   }
  },
  {
   "cell_type": "markdown",
   "source": [
    "> Теперь сохраним результат из переменной **money_by_city** в файл для того чтобы можно было его отдать"
   ],
   "metadata": {
    "collapsed": false
   }
  },
  {
   "cell_type": "code",
   "execution_count": 48,
   "outputs": [],
   "source": [
    "money_by_city.to_csv('data_set\\money_by_city.csv', index=False)"
   ],
   "metadata": {
    "collapsed": false
   }
  },
  {
   "cell_type": "markdown",
   "source": [
    "> Теперь посчитаем количество заказов к суммам с разбивкой только по **'title'** но т.к. мы имеем заказы с нулевой суммой и не завершенные, то нам нужно отфильтровать с помощью функции **.query** по полю **\"status == 'Завершен'\"**"
   ],
   "metadata": {
    "collapsed": false
   }
  },
  {
   "cell_type": "code",
   "execution_count": 50,
   "outputs": [
    {
     "data": {
      "text/plain": "                                               title      money  number\n5  Подписка «ОНЛАЙН ДИЕТОЛОГ» с ежемесячным автос...  366947.20     125\n0                        Курс обучения «Консультант»  208163.49      31\n1                         Курс обучения «Специалист»  160862.64       7\n2                            Курс обучения «Эксперт»  148992.80       5\n4  Курс от Школы Диетологов. Повышение квалификац...   88384.92       9\n3                   Курс от Школы Диетологов. Бизнес   18752.54       3",
      "text/html": "<div>\n<style scoped>\n    .dataframe tbody tr th:only-of-type {\n        vertical-align: middle;\n    }\n\n    .dataframe tbody tr th {\n        vertical-align: top;\n    }\n\n    .dataframe thead th {\n        text-align: right;\n    }\n</style>\n<table border=\"1\" class=\"dataframe\">\n  <thead>\n    <tr style=\"text-align: right;\">\n      <th></th>\n      <th>title</th>\n      <th>money</th>\n      <th>number</th>\n    </tr>\n  </thead>\n  <tbody>\n    <tr>\n      <th>5</th>\n      <td>Подписка «ОНЛАЙН ДИЕТОЛОГ» с ежемесячным автос...</td>\n      <td>366947.20</td>\n      <td>125</td>\n    </tr>\n    <tr>\n      <th>0</th>\n      <td>Курс обучения «Консультант»</td>\n      <td>208163.49</td>\n      <td>31</td>\n    </tr>\n    <tr>\n      <th>1</th>\n      <td>Курс обучения «Специалист»</td>\n      <td>160862.64</td>\n      <td>7</td>\n    </tr>\n    <tr>\n      <th>2</th>\n      <td>Курс обучения «Эксперт»</td>\n      <td>148992.80</td>\n      <td>5</td>\n    </tr>\n    <tr>\n      <th>4</th>\n      <td>Курс от Школы Диетологов. Повышение квалификац...</td>\n      <td>88384.92</td>\n      <td>9</td>\n    </tr>\n    <tr>\n      <th>3</th>\n      <td>Курс от Школы Диетологов. Бизнес</td>\n      <td>18752.54</td>\n      <td>3</td>\n    </tr>\n  </tbody>\n</table>\n</div>"
     },
     "execution_count": 50,
     "metadata": {},
     "output_type": "execute_result"
    }
   ],
   "source": [
    "df \\\n",
    "    .query(\"status == 'Завершен'\")\\\n",
    "    .groupby(['title'], as_index=False)\\\n",
    "    .aggregate({'money':'sum', 'number':'count'})\\\n",
    "    .sort_values('money', ascending=False)"
   ],
   "metadata": {
    "collapsed": false
   }
  },
  {
   "cell_type": "markdown",
   "source": [
    "### 2.1.4 Способы самопроверки при анализе данных\n",
    "___\n",
    "<https://www.youtube.com/watch?v=rfI9cAxKZTQ&ab_channel=AnatoliyKarpov>"
   ],
   "metadata": {
    "collapsed": false
   }
  },
  {
   "cell_type": "markdown",
   "source": [
    "Можем теперь дать новое имя колонкам с помощью rename и сохраним результат в новую переменную для проверки"
   ],
   "metadata": {
    "collapsed": false
   }
  },
  {
   "cell_type": "code",
   "execution_count": 53,
   "outputs": [],
   "source": [
    "money_title = df \\\n",
    "    .query(\"status == 'Завершен'\")\\\n",
    "    .groupby(['title'], as_index=False)\\\n",
    "    .aggregate({'money':'sum', 'number':'count'})\\\n",
    "    .sort_values('money', ascending=False)\\\n",
    "    .rename(columns={'number': 'success_orders'})"
   ],
   "metadata": {
    "collapsed": false
   }
  },
  {
   "cell_type": "markdown",
   "source": [
    "Для проверки просуммируем записи в новой полученной таблице и сравним их с изначальной суммой по всем записям"
   ],
   "metadata": {
    "collapsed": false
   }
  },
  {
   "cell_type": "code",
   "execution_count": 55,
   "outputs": [
    {
     "data": {
      "text/plain": "992103.59"
     },
     "execution_count": 55,
     "metadata": {},
     "output_type": "execute_result"
    }
   ],
   "source": [
    "money_title.money.sum()"
   ],
   "metadata": {
    "collapsed": false
   }
  },
  {
   "cell_type": "markdown",
   "source": [
    "Полученный результат сгруппированных данных совпадает с первоночальной суммой."
   ],
   "metadata": {
    "collapsed": false
   }
  },
  {
   "cell_type": "code",
   "execution_count": 58,
   "outputs": [
    {
     "data": {
      "text/plain": "992103.5900000001"
     },
     "execution_count": 58,
     "metadata": {},
     "output_type": "execute_result"
    }
   ],
   "source": [
    "all_money"
   ],
   "metadata": {
    "collapsed": false
   }
  },
  {
   "cell_type": "markdown",
   "source": [
    "Сделаем автоматическую проверку сообщений"
   ],
   "metadata": {
    "collapsed": false
   }
  },
  {
   "cell_type": "code",
   "execution_count": 71,
   "outputs": [
    {
     "name": "stdout",
     "output_type": "stream",
     "text": [
      "OK!\n"
     ]
    }
   ],
   "source": [
    "if int(money_title.money.sum()) == int(all_money):\n",
    "    print('OK!')\n",
    "else:\n",
    "    print('Error!')"
   ],
   "metadata": {
    "collapsed": false
   }
  },
  {
   "cell_type": "markdown",
   "source": [
    "### 2.1.5 Автоматизация скучной работы\n",
    "___\n",
    "<https://www.youtube.com/watch?v=Y3fiDr5g-GQ&ab_channel=AnatoliyKarpov>"
   ],
   "metadata": {
    "collapsed": false
   }
  },
  {
   "cell_type": "markdown",
   "source": [
    "Для автоматизации выгрузки файла, напишем запрос текущей даты чтобы выгрузка т.е. имя файла содержала дату когда была сделана выгрузка"
   ],
   "metadata": {
    "collapsed": false
   }
  },
  {
   "cell_type": "code",
   "execution_count": 69,
   "outputs": [
    {
     "data": {
      "text/plain": "'2022-10-31'"
     },
     "execution_count": 69,
     "metadata": {},
     "output_type": "execute_result"
    }
   ],
   "source": [
    "today_day = datetime.today().strftime('%Y-%m-%d')\n",
    "today_day"
   ],
   "metadata": {
    "collapsed": false
   }
  },
  {
   "cell_type": "markdown",
   "source": [
    "Сделаем заготовку файла к которой будем прицеплять дату при выгрузке файла."
   ],
   "metadata": {
    "collapsed": false
   }
  },
  {
   "cell_type": "code",
   "execution_count": 145,
   "outputs": [],
   "source": [
    "file_name = r'data_set\\money_title_{}.csv'"
   ],
   "metadata": {
    "collapsed": false
   }
  },
  {
   "cell_type": "markdown",
   "source": [
    "Теперь при создании имени файла с датой имя файла будет иметь следующий вид"
   ],
   "metadata": {
    "collapsed": false
   }
  },
  {
   "cell_type": "code",
   "execution_count": 146,
   "outputs": [],
   "source": [
    "file_name = file_name.format(today_day)"
   ],
   "metadata": {
    "collapsed": false
   }
  },
  {
   "cell_type": "code",
   "execution_count": 147,
   "outputs": [
    {
     "data": {
      "text/plain": "'money_title_2022-10-31.csv'"
     },
     "execution_count": 147,
     "metadata": {},
     "output_type": "execute_result"
    }
   ],
   "source": [
    "file_name"
   ],
   "metadata": {
    "collapsed": false
   }
  },
  {
   "cell_type": "markdown",
   "source": [
    "Далее соберем все вместе, автоматическую проверку и выгрузку"
   ],
   "metadata": {
    "collapsed": false
   }
  },
  {
   "cell_type": "code",
   "execution_count": 148,
   "outputs": [
    {
     "name": "stdout",
     "output_type": "stream",
     "text": [
      "OK! File money_title_2022-10-31.csv is written.\n"
     ]
    }
   ],
   "source": [
    "if int(money_title.money.sum()) == int(all_money):\n",
    "    print('OK! File {} is written.'.format(file_name))\n",
    "    money_title.to_csv(file_name, index=False)\n",
    "else:\n",
    "    print('Error!')"
   ],
   "metadata": {
    "collapsed": false
   }
  }
 ],
 "metadata": {
  "kernelspec": {
   "display_name": "Python 3",
   "language": "python",
   "name": "python3"
  },
  "language_info": {
   "codemirror_mode": {
    "name": "ipython",
    "version": 2
   },
   "file_extension": ".py",
   "mimetype": "text/x-python",
   "name": "python",
   "nbconvert_exporter": "python",
   "pygments_lexer": "ipython2",
   "version": "2.7.6"
  }
 },
 "nbformat": 4,
 "nbformat_minor": 0
}
