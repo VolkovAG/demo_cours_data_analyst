{
 "cells": [
  {
   "cell_type": "markdown",
   "source": [
    "---\n",
    "### №1 Задания второго урока 2.3\n",
    "\n",
    "Отлично! Теперь поработаем с данными о поездках на такси в Нью-Йорке, в которых также имеется информация о погодных условиях и выходных днях.\n",
    "\n",
    "    pickup_dt – период с точностью до часа\n",
    "    pickup_month – месяц\n",
    "    borough – район Нью-Йорка, из которого был сделан заказ (5 районов + аэропорт)\n",
    "    pickups – число поездок за период (час)\n",
    "    hday – является ли день праздничным/выходным; Y – да, N – нет\n",
    "    spd – скорость ветра в милях в час\n",
    "    vsb – видимость\n",
    "    temp – температура в градусах Фаренгейта\n",
    "    dewp – точка росы по Фаренгейту\n",
    "    slp – давление\n",
    "    pcp_01 – количество осадков за час\n",
    "    pcp_06 – количество осадков за 6 часов\n",
    "    pcp_24 – количество осадков за 24 часа\n",
    "    sd – глубина снега в дюймах\n",
    "\n",
    "Импортируйте библиотеку pandas, а затем загрузите датасет 2_taxi_nyc, находящийся [здесь](https://stepik.org/media/attachments/lesson/360340/2_taxi_nyc.csv). Результат сохраните в переменную taxi.\n",
    "\n",
    "Для загрузки датасэта в pandas по ссылке просто выполните pd.read_csv('url'), где url – ссылка на данные (расположена чуть выше)."
   ],
   "metadata": {
    "collapsed": false
   },
   "outputs": [
    {
     "ename": "SyntaxError",
     "evalue": "invalid character '№' (U+2116) (1937873935.py, line 1)",
     "output_type": "error",
     "traceback": [
      "\u001B[1;36m  Input \u001B[1;32mIn [1]\u001B[1;36m\u001B[0m\n\u001B[1;33m    №№№1 Задания второго урока 2.3\u001B[0m\n\u001B[1;37m    ^\u001B[0m\n\u001B[1;31mSyntaxError\u001B[0m\u001B[1;31m:\u001B[0m invalid character '№' (U+2116)\n"
     ]
    }
   ],
   "execution_count": null
  },
  {
   "cell_type": "code",
   "execution_count": 2,
   "outputs": [
    {
     "data": {
      "text/plain": "                 pickup_dt pickup_month        borough  pickups hday  spd  \\\n0      2015-01-01 01:00:00          Jan          Bronx      152    Y  5.0   \n1      2015-01-01 01:00:00          Jan       Brooklyn     1519    Y  5.0   \n2      2015-01-01 01:00:00          Jan            EWR        0    Y  5.0   \n3      2015-01-01 01:00:00          Jan      Manhattan     5258    Y  5.0   \n4      2015-01-01 01:00:00          Jan         Queens      405    Y  5.0   \n...                    ...          ...            ...      ...  ...  ...   \n29096  2015-06-30 23:00:00          Jun            EWR        0    N  7.0   \n29097  2015-06-30 23:00:00          Jun      Manhattan     3828    N  7.0   \n29098  2015-06-30 23:00:00          Jun         Queens      580    N  7.0   \n29099  2015-06-30 23:00:00          Jun  Staten Island        0    N  7.0   \n29100  2015-06-30 23:00:00          Jun            NaN        3    N  7.0   \n\n        vsb  temp  dewp     slp  pcp 01  pcp 06  pcp 24   sd  \n0      10.0  30.0   7.0  1023.5     0.0     0.0     0.0  0.0  \n1      10.0  30.0   7.0  1023.5     0.0     0.0     0.0  0.0  \n2      10.0  30.0   7.0  1023.5     0.0     0.0     0.0  0.0  \n3      10.0  30.0   7.0  1023.5     0.0     0.0     0.0  0.0  \n4      10.0  30.0   7.0  1023.5     0.0     0.0     0.0  0.0  \n...     ...   ...   ...     ...     ...     ...     ...  ...  \n29096  10.0  75.0  65.0  1011.8     0.0     0.0     0.0  0.0  \n29097  10.0  75.0  65.0  1011.8     0.0     0.0     0.0  0.0  \n29098  10.0  75.0  65.0  1011.8     0.0     0.0     0.0  0.0  \n29099  10.0  75.0  65.0  1011.8     0.0     0.0     0.0  0.0  \n29100  10.0  75.0  65.0  1011.8     0.0     0.0     0.0  0.0  \n\n[29101 rows x 14 columns]",
      "text/html": "<div>\n<style scoped>\n    .dataframe tbody tr th:only-of-type {\n        vertical-align: middle;\n    }\n\n    .dataframe tbody tr th {\n        vertical-align: top;\n    }\n\n    .dataframe thead th {\n        text-align: right;\n    }\n</style>\n<table border=\"1\" class=\"dataframe\">\n  <thead>\n    <tr style=\"text-align: right;\">\n      <th></th>\n      <th>pickup_dt</th>\n      <th>pickup_month</th>\n      <th>borough</th>\n      <th>pickups</th>\n      <th>hday</th>\n      <th>spd</th>\n      <th>vsb</th>\n      <th>temp</th>\n      <th>dewp</th>\n      <th>slp</th>\n      <th>pcp 01</th>\n      <th>pcp 06</th>\n      <th>pcp 24</th>\n      <th>sd</th>\n    </tr>\n  </thead>\n  <tbody>\n    <tr>\n      <th>0</th>\n      <td>2015-01-01 01:00:00</td>\n      <td>Jan</td>\n      <td>Bronx</td>\n      <td>152</td>\n      <td>Y</td>\n      <td>5.0</td>\n      <td>10.0</td>\n      <td>30.0</td>\n      <td>7.0</td>\n      <td>1023.5</td>\n      <td>0.0</td>\n      <td>0.0</td>\n      <td>0.0</td>\n      <td>0.0</td>\n    </tr>\n    <tr>\n      <th>1</th>\n      <td>2015-01-01 01:00:00</td>\n      <td>Jan</td>\n      <td>Brooklyn</td>\n      <td>1519</td>\n      <td>Y</td>\n      <td>5.0</td>\n      <td>10.0</td>\n      <td>30.0</td>\n      <td>7.0</td>\n      <td>1023.5</td>\n      <td>0.0</td>\n      <td>0.0</td>\n      <td>0.0</td>\n      <td>0.0</td>\n    </tr>\n    <tr>\n      <th>2</th>\n      <td>2015-01-01 01:00:00</td>\n      <td>Jan</td>\n      <td>EWR</td>\n      <td>0</td>\n      <td>Y</td>\n      <td>5.0</td>\n      <td>10.0</td>\n      <td>30.0</td>\n      <td>7.0</td>\n      <td>1023.5</td>\n      <td>0.0</td>\n      <td>0.0</td>\n      <td>0.0</td>\n      <td>0.0</td>\n    </tr>\n    <tr>\n      <th>3</th>\n      <td>2015-01-01 01:00:00</td>\n      <td>Jan</td>\n      <td>Manhattan</td>\n      <td>5258</td>\n      <td>Y</td>\n      <td>5.0</td>\n      <td>10.0</td>\n      <td>30.0</td>\n      <td>7.0</td>\n      <td>1023.5</td>\n      <td>0.0</td>\n      <td>0.0</td>\n      <td>0.0</td>\n      <td>0.0</td>\n    </tr>\n    <tr>\n      <th>4</th>\n      <td>2015-01-01 01:00:00</td>\n      <td>Jan</td>\n      <td>Queens</td>\n      <td>405</td>\n      <td>Y</td>\n      <td>5.0</td>\n      <td>10.0</td>\n      <td>30.0</td>\n      <td>7.0</td>\n      <td>1023.5</td>\n      <td>0.0</td>\n      <td>0.0</td>\n      <td>0.0</td>\n      <td>0.0</td>\n    </tr>\n    <tr>\n      <th>...</th>\n      <td>...</td>\n      <td>...</td>\n      <td>...</td>\n      <td>...</td>\n      <td>...</td>\n      <td>...</td>\n      <td>...</td>\n      <td>...</td>\n      <td>...</td>\n      <td>...</td>\n      <td>...</td>\n      <td>...</td>\n      <td>...</td>\n      <td>...</td>\n    </tr>\n    <tr>\n      <th>29096</th>\n      <td>2015-06-30 23:00:00</td>\n      <td>Jun</td>\n      <td>EWR</td>\n      <td>0</td>\n      <td>N</td>\n      <td>7.0</td>\n      <td>10.0</td>\n      <td>75.0</td>\n      <td>65.0</td>\n      <td>1011.8</td>\n      <td>0.0</td>\n      <td>0.0</td>\n      <td>0.0</td>\n      <td>0.0</td>\n    </tr>\n    <tr>\n      <th>29097</th>\n      <td>2015-06-30 23:00:00</td>\n      <td>Jun</td>\n      <td>Manhattan</td>\n      <td>3828</td>\n      <td>N</td>\n      <td>7.0</td>\n      <td>10.0</td>\n      <td>75.0</td>\n      <td>65.0</td>\n      <td>1011.8</td>\n      <td>0.0</td>\n      <td>0.0</td>\n      <td>0.0</td>\n      <td>0.0</td>\n    </tr>\n    <tr>\n      <th>29098</th>\n      <td>2015-06-30 23:00:00</td>\n      <td>Jun</td>\n      <td>Queens</td>\n      <td>580</td>\n      <td>N</td>\n      <td>7.0</td>\n      <td>10.0</td>\n      <td>75.0</td>\n      <td>65.0</td>\n      <td>1011.8</td>\n      <td>0.0</td>\n      <td>0.0</td>\n      <td>0.0</td>\n      <td>0.0</td>\n    </tr>\n    <tr>\n      <th>29099</th>\n      <td>2015-06-30 23:00:00</td>\n      <td>Jun</td>\n      <td>Staten Island</td>\n      <td>0</td>\n      <td>N</td>\n      <td>7.0</td>\n      <td>10.0</td>\n      <td>75.0</td>\n      <td>65.0</td>\n      <td>1011.8</td>\n      <td>0.0</td>\n      <td>0.0</td>\n      <td>0.0</td>\n      <td>0.0</td>\n    </tr>\n    <tr>\n      <th>29100</th>\n      <td>2015-06-30 23:00:00</td>\n      <td>Jun</td>\n      <td>NaN</td>\n      <td>3</td>\n      <td>N</td>\n      <td>7.0</td>\n      <td>10.0</td>\n      <td>75.0</td>\n      <td>65.0</td>\n      <td>1011.8</td>\n      <td>0.0</td>\n      <td>0.0</td>\n      <td>0.0</td>\n      <td>0.0</td>\n    </tr>\n  </tbody>\n</table>\n<p>29101 rows × 14 columns</p>\n</div>"
     },
     "execution_count": 2,
     "metadata": {},
     "output_type": "execute_result"
    }
   ],
   "source": [
    "import pandas as pd\n",
    "pd.read_csv('https://stepik.org/media/attachments/lesson/360340/2_taxi_nyc.csv')"
   ],
   "metadata": {
    "collapsed": false
   }
  },
  {
   "cell_type": "code",
   "execution_count": 3,
   "outputs": [],
   "source": [
    "taxi = pd.read_csv('https://stepik.org/media/attachments/lesson/360340/2_taxi_nyc.csv')"
   ],
   "metadata": {
    "collapsed": false
   }
  },
  {
   "cell_type": "markdown",
   "source": [
    "**№2 Задания второго урока 2.3**\n",
    "Проверьте, сколько всего строк и столбцов имеется в датасете."
   ],
   "metadata": {
    "collapsed": false
   }
  },
  {
   "cell_type": "code",
   "execution_count": 4,
   "outputs": [
    {
     "data": {
      "text/plain": "(29101, 14)"
     },
     "execution_count": 4,
     "metadata": {},
     "output_type": "execute_result"
    }
   ],
   "source": [
    "taxi.shape"
   ],
   "metadata": {
    "collapsed": false
   }
  },
  {
   "cell_type": "markdown",
   "source": [
    "---\n",
    "**№3 Задания второго урока 2.3**\n",
    "\n",
    "Давайте посмотрим на типы колонок. Все ли из них считались правильно? В качестве ответа выберите тип, преобладающий в датасете.\n",
    "- object\n",
    "- float64\n",
    "- datetime64\n",
    "- int64"
   ],
   "metadata": {
    "collapsed": false
   }
  },
  {
   "cell_type": "code",
   "execution_count": 6,
   "outputs": [
    {
     "data": {
      "text/plain": "pickup_dt        object\npickup_month     object\nborough          object\npickups           int64\nhday             object\nspd             float64\nvsb             float64\ntemp            float64\ndewp            float64\nslp             float64\npcp 01          float64\npcp 06          float64\npcp 24          float64\nsd              float64\ndtype: object"
     },
     "execution_count": 6,
     "metadata": {},
     "output_type": "execute_result"
    }
   ],
   "source": [
    "taxi.dtypes"
   ],
   "metadata": {
    "collapsed": false
   }
  },
  {
   "cell_type": "markdown",
   "source": [
    "---\n",
    "**№4 Задания второго урока 2.3**\n",
    "\n",
    "В названиях столбцов pcp 01, pcp 06, pcp 24 встречается пробел. Это не очень удобно, если в дальнейшем вы планируете обращаться к колонкам через точку, без использования кавычек и скобочек.\n",
    "Замените пробел в названиях на знак нижнего подчёркивания.\n",
    "Данные сохранены в переменную taxi. Данные должны быть изменены в этом же датафрейме."
   ],
   "metadata": {
    "collapsed": false
   }
  },
  {
   "cell_type": "code",
   "execution_count": 7,
   "outputs": [
    {
     "data": {
      "text/plain": "Index(['pickup_dt', 'pickup_month', 'borough', 'pickups', 'hday', 'spd', 'vsb',\n       'temp', 'dewp', 'slp', 'pcp 01', 'pcp 06', 'pcp 24', 'sd'],\n      dtype='object')"
     },
     "execution_count": 7,
     "metadata": {},
     "output_type": "execute_result"
    }
   ],
   "source": [
    "taxi.columns"
   ],
   "metadata": {
    "collapsed": false
   }
  },
  {
   "cell_type": "code",
   "execution_count": 8,
   "outputs": [],
   "source": [
    "taxi = taxi.rename(columns={\n",
    "    'pcp 01': 'pcp_01',\n",
    "    'pcp 06': 'pcp_06',\n",
    "    'pcp 24': 'pcp_24'})"
   ],
   "metadata": {
    "collapsed": false
   }
  },
  {
   "cell_type": "code",
   "execution_count": 9,
   "outputs": [
    {
     "data": {
      "text/plain": "Index(['pickup_dt', 'pickup_month', 'borough', 'pickups', 'hday', 'spd', 'vsb',\n       'temp', 'dewp', 'slp', 'pcp_01', 'pcp_06', 'pcp_24', 'sd'],\n      dtype='object')"
     },
     "execution_count": 9,
     "metadata": {},
     "output_type": "execute_result"
    }
   ],
   "source": [
    "taxi.columns"
   ],
   "metadata": {
    "collapsed": false
   }
  },
  {
   "cell_type": "markdown",
   "source": [
    "---\n",
    "**№5 Задания второго урока 2.3**\n",
    "Вас попросили узнать, сколько записей (строк) в датафрейме относятся к району Манхэттен (Manhattan). Получить ответ на данный вопрос можно было бы, например, с помощью следующей команды:\n",
    "\n",
    "taxi.query(\"borough == 'Manhattan'\").shape[0]\n",
    "\n",
    "А если мы хотим посмотреть, сколько раз встречается каждый из районов? Неужели придётся использовать подобную конструкцию для каждого уровня переменной? Здесь на помощь приходит метод value_counts(), подробнее о котором можно почитать в конспекте!\n",
    "\n",
    "А теперь вопрос: сколько раз в данных встречается район Бруклин (Brooklyn)?"
   ],
   "metadata": {
    "collapsed": false
   }
  },
  {
   "cell_type": "code",
   "execution_count": 17,
   "outputs": [
    {
     "data": {
      "text/plain": "Bronx            4343\nBrooklyn         4343\nEWR              4343\nManhattan        4343\nQueens           4343\nStaten Island    4343\nName: borough, dtype: int64"
     },
     "execution_count": 17,
     "metadata": {},
     "output_type": "execute_result"
    }
   ],
   "source": [
    "taxi['borough'].value_counts()"
   ],
   "metadata": {
    "collapsed": false
   }
  },
  {
   "cell_type": "markdown",
   "source": [
    "---\n",
    "**№6 Задания второго урока 2.3**\n",
    "\n",
    "Следующая задача: выяснить, из какого района было совершено наибольшее количество поездок за весь период.\n",
    "Для начала посчитайте общее количество поездок (pickups) без группировки."
   ],
   "metadata": {
    "collapsed": false
   }
  },
  {
   "cell_type": "code",
   "execution_count": 20,
   "outputs": [
    {
     "data": {
      "text/plain": "pickups    14265773\ndtype: int64"
     },
     "execution_count": 20,
     "metadata": {},
     "output_type": "execute_result"
    }
   ],
   "source": [
    "taxi.agg({'pickups' : 'sum'})"
   ],
   "metadata": {
    "collapsed": false
   }
  },
  {
   "cell_type": "markdown",
   "source": [
    "---\n",
    "**№7 Задания второго урока 2.3**\n",
    "А теперь сгруппируйте данные по району (borough) и укажите, из какого пункта было совершено больше всего поездок."
   ],
   "metadata": {
    "collapsed": false
   }
  },
  {
   "cell_type": "code",
   "execution_count": 24,
   "outputs": [
    {
     "data": {
      "text/plain": "         borough   pickups\n2            EWR       105\n5  Staten Island      6957\n0          Bronx    220047\n4         Queens   1343528\n1       Brooklyn   2321035\n3      Manhattan  10367841",
      "text/html": "<div>\n<style scoped>\n    .dataframe tbody tr th:only-of-type {\n        vertical-align: middle;\n    }\n\n    .dataframe tbody tr th {\n        vertical-align: top;\n    }\n\n    .dataframe thead th {\n        text-align: right;\n    }\n</style>\n<table border=\"1\" class=\"dataframe\">\n  <thead>\n    <tr style=\"text-align: right;\">\n      <th></th>\n      <th>borough</th>\n      <th>pickups</th>\n    </tr>\n  </thead>\n  <tbody>\n    <tr>\n      <th>2</th>\n      <td>EWR</td>\n      <td>105</td>\n    </tr>\n    <tr>\n      <th>5</th>\n      <td>Staten Island</td>\n      <td>6957</td>\n    </tr>\n    <tr>\n      <th>0</th>\n      <td>Bronx</td>\n      <td>220047</td>\n    </tr>\n    <tr>\n      <th>4</th>\n      <td>Queens</td>\n      <td>1343528</td>\n    </tr>\n    <tr>\n      <th>1</th>\n      <td>Brooklyn</td>\n      <td>2321035</td>\n    </tr>\n    <tr>\n      <th>3</th>\n      <td>Manhattan</td>\n      <td>10367841</td>\n    </tr>\n  </tbody>\n</table>\n</div>"
     },
     "execution_count": 24,
     "metadata": {},
     "output_type": "execute_result"
    }
   ],
   "source": [
    "taxi \\\n",
    "    .groupby('borough', as_index=False)\\\n",
    "    .agg({'pickups':'sum'})\\\n",
    "    .sort_values('pickups')"
   ],
   "metadata": {
    "collapsed": false
   }
  },
  {
   "cell_type": "markdown",
   "source": [
    "---\n",
    "**№8 Задания второго урока 2.3**\n",
    "⭐️Задание со звёздочкой!⭐️\n",
    "\n",
    "Ещё несколько полезных методов в pandas! Возможно, в предыдущем степе вы просто посмотрели на данные или отсортировали значения. Ускорить данный процесс в дальнейшем помогут методы idxmin() и idxmax(), которые возвращают индекс минимального или максимального значения.\n",
    "\n",
    "**idxmin** – индекс минимального значения\n",
    "**idxmax** – индекс максимального значения\n",
    "\n",
    "Сохраните название района с наименьшим числом поездок в переменную min_pickups, применив подходящий метод.\n",
    "Исходные данные сохранены в переменную taxi."
   ],
   "metadata": {
    "collapsed": false
   }
  },
  {
   "cell_type": "code",
   "execution_count": 42,
   "outputs": [],
   "source": [
    "min_pickups = taxi \\\n",
    "    .groupby('borough')\\\n",
    "    .agg({'pickups':'sum'})\\\n",
    "    .idxmin()"
   ],
   "metadata": {
    "collapsed": false
   }
  },
  {
   "cell_type": "markdown",
   "source": [
    "---\n",
    "**№8 Задания второго урока 2.3**\n",
    "\n",
    "Продолжим изучение данных и посмотрим на число поездок в выходные дни. Сгруппируйте данные по двум признакам: району города и является ли день выходным (колонки borough и hday). Сравните среднее число поездок, и выберите районы, из которых по праздникам в среднем поступает больше заказов, чем в обычные дни."
   ],
   "metadata": {
    "collapsed": false
   }
  },
  {
   "cell_type": "code",
   "execution_count": 53,
   "outputs": [
    {
     "data": {
      "text/plain": "                        pickups\nborough       hday             \nBronx         N       50.771073\n              Y       48.065868\nBrooklyn      N      534.727969\n              Y      527.011976\nEWR           N        0.023467\n              Y        0.041916\nManhattan     N     2401.302921\n              Y     2035.928144\nQueens        N      308.899904\n              Y      320.730539\nStaten Island N        1.606082\n              Y        1.497006",
      "text/html": "<div>\n<style scoped>\n    .dataframe tbody tr th:only-of-type {\n        vertical-align: middle;\n    }\n\n    .dataframe tbody tr th {\n        vertical-align: top;\n    }\n\n    .dataframe thead th {\n        text-align: right;\n    }\n</style>\n<table border=\"1\" class=\"dataframe\">\n  <thead>\n    <tr style=\"text-align: right;\">\n      <th></th>\n      <th></th>\n      <th>pickups</th>\n    </tr>\n    <tr>\n      <th>borough</th>\n      <th>hday</th>\n      <th></th>\n    </tr>\n  </thead>\n  <tbody>\n    <tr>\n      <th rowspan=\"2\" valign=\"top\">Bronx</th>\n      <th>N</th>\n      <td>50.771073</td>\n    </tr>\n    <tr>\n      <th>Y</th>\n      <td>48.065868</td>\n    </tr>\n    <tr>\n      <th rowspan=\"2\" valign=\"top\">Brooklyn</th>\n      <th>N</th>\n      <td>534.727969</td>\n    </tr>\n    <tr>\n      <th>Y</th>\n      <td>527.011976</td>\n    </tr>\n    <tr>\n      <th rowspan=\"2\" valign=\"top\">EWR</th>\n      <th>N</th>\n      <td>0.023467</td>\n    </tr>\n    <tr>\n      <th>Y</th>\n      <td>0.041916</td>\n    </tr>\n    <tr>\n      <th rowspan=\"2\" valign=\"top\">Manhattan</th>\n      <th>N</th>\n      <td>2401.302921</td>\n    </tr>\n    <tr>\n      <th>Y</th>\n      <td>2035.928144</td>\n    </tr>\n    <tr>\n      <th rowspan=\"2\" valign=\"top\">Queens</th>\n      <th>N</th>\n      <td>308.899904</td>\n    </tr>\n    <tr>\n      <th>Y</th>\n      <td>320.730539</td>\n    </tr>\n    <tr>\n      <th rowspan=\"2\" valign=\"top\">Staten Island</th>\n      <th>N</th>\n      <td>1.606082</td>\n    </tr>\n    <tr>\n      <th>Y</th>\n      <td>1.497006</td>\n    </tr>\n  </tbody>\n</table>\n</div>"
     },
     "execution_count": 53,
     "metadata": {},
     "output_type": "execute_result"
    }
   ],
   "source": [
    "taxi.groupby(['borough','hday'])\\\n",
    "    .agg({'pickups':'mean'})"
   ],
   "metadata": {
    "collapsed": false
   }
  },
  {
   "cell_type": "markdown",
   "source": [
    "---\n",
    "**№9 Задания второго урока 2.3**\n",
    "\n",
    "Для каждого района посчитайте число поездок по месяцам. Отсортируйте полученные значения по убыванию и сохраните результирующий датафрейм в pickups_by_mon_bor.\n",
    "\n",
    "Обратите внимание, что итоговый датасет должен состоять из 3-х колонок: pickup_month, borough, pickups."
   ],
   "metadata": {
    "collapsed": false
   }
  },
  {
   "cell_type": "code",
   "execution_count": 65,
   "outputs": [],
   "source": [
    "pickups_by_mon_bor = taxi.groupby(['pickup_month','borough'], as_index=False)\\\n",
    "    .agg({'pickups':'sum'})\\\n",
    "    .sort_values('pickups', ascending=False)"
   ],
   "metadata": {
    "collapsed": false
   }
  },
  {
   "cell_type": "code",
   "execution_count": 66,
   "outputs": [
    {
     "data": {
      "text/plain": "   pickup_month        borough  pickups\n21          Jun      Manhattan  1995388\n33          May      Manhattan  1888800\n9           Feb      Manhattan  1718571\n27          Mar      Manhattan  1661261\n3           Apr      Manhattan  1648278\n15          Jan      Manhattan  1455543\n19          Jun       Brooklyn   482466\n31          May       Brooklyn   476087\n1           Apr       Brooklyn   378095\n25          Mar       Brooklyn   346726\n7           Feb       Brooklyn   328650\n13          Jan       Brooklyn   309011\n22          Jun         Queens   286311\n34          May         Queens   275893\n28          Mar         Queens   219561\n4           Apr         Queens   216857\n10          Feb         Queens   185695\n16          Jan         Queens   159211\n30          May          Bronx    53037\n18          Jun          Bronx    49006\n0           Apr          Bronx    34617\n24          Mar          Bronx    32232\n6           Feb          Bronx    28694\n12          Jan          Bronx    22461\n23          Jun  Staten Island     1673\n35          May  Staten Island     1517\n5           Apr  Staten Island     1068\n29          Mar  Staten Island      975\n11          Feb  Staten Island      903\n17          Jan  Staten Island      821\n20          Jun            EWR       29\n32          May            EWR       27\n26          Mar            EWR       14\n8           Feb            EWR       14\n14          Jan            EWR       11\n2           Apr            EWR       10",
      "text/html": "<div>\n<style scoped>\n    .dataframe tbody tr th:only-of-type {\n        vertical-align: middle;\n    }\n\n    .dataframe tbody tr th {\n        vertical-align: top;\n    }\n\n    .dataframe thead th {\n        text-align: right;\n    }\n</style>\n<table border=\"1\" class=\"dataframe\">\n  <thead>\n    <tr style=\"text-align: right;\">\n      <th></th>\n      <th>pickup_month</th>\n      <th>borough</th>\n      <th>pickups</th>\n    </tr>\n  </thead>\n  <tbody>\n    <tr>\n      <th>21</th>\n      <td>Jun</td>\n      <td>Manhattan</td>\n      <td>1995388</td>\n    </tr>\n    <tr>\n      <th>33</th>\n      <td>May</td>\n      <td>Manhattan</td>\n      <td>1888800</td>\n    </tr>\n    <tr>\n      <th>9</th>\n      <td>Feb</td>\n      <td>Manhattan</td>\n      <td>1718571</td>\n    </tr>\n    <tr>\n      <th>27</th>\n      <td>Mar</td>\n      <td>Manhattan</td>\n      <td>1661261</td>\n    </tr>\n    <tr>\n      <th>3</th>\n      <td>Apr</td>\n      <td>Manhattan</td>\n      <td>1648278</td>\n    </tr>\n    <tr>\n      <th>15</th>\n      <td>Jan</td>\n      <td>Manhattan</td>\n      <td>1455543</td>\n    </tr>\n    <tr>\n      <th>19</th>\n      <td>Jun</td>\n      <td>Brooklyn</td>\n      <td>482466</td>\n    </tr>\n    <tr>\n      <th>31</th>\n      <td>May</td>\n      <td>Brooklyn</td>\n      <td>476087</td>\n    </tr>\n    <tr>\n      <th>1</th>\n      <td>Apr</td>\n      <td>Brooklyn</td>\n      <td>378095</td>\n    </tr>\n    <tr>\n      <th>25</th>\n      <td>Mar</td>\n      <td>Brooklyn</td>\n      <td>346726</td>\n    </tr>\n    <tr>\n      <th>7</th>\n      <td>Feb</td>\n      <td>Brooklyn</td>\n      <td>328650</td>\n    </tr>\n    <tr>\n      <th>13</th>\n      <td>Jan</td>\n      <td>Brooklyn</td>\n      <td>309011</td>\n    </tr>\n    <tr>\n      <th>22</th>\n      <td>Jun</td>\n      <td>Queens</td>\n      <td>286311</td>\n    </tr>\n    <tr>\n      <th>34</th>\n      <td>May</td>\n      <td>Queens</td>\n      <td>275893</td>\n    </tr>\n    <tr>\n      <th>28</th>\n      <td>Mar</td>\n      <td>Queens</td>\n      <td>219561</td>\n    </tr>\n    <tr>\n      <th>4</th>\n      <td>Apr</td>\n      <td>Queens</td>\n      <td>216857</td>\n    </tr>\n    <tr>\n      <th>10</th>\n      <td>Feb</td>\n      <td>Queens</td>\n      <td>185695</td>\n    </tr>\n    <tr>\n      <th>16</th>\n      <td>Jan</td>\n      <td>Queens</td>\n      <td>159211</td>\n    </tr>\n    <tr>\n      <th>30</th>\n      <td>May</td>\n      <td>Bronx</td>\n      <td>53037</td>\n    </tr>\n    <tr>\n      <th>18</th>\n      <td>Jun</td>\n      <td>Bronx</td>\n      <td>49006</td>\n    </tr>\n    <tr>\n      <th>0</th>\n      <td>Apr</td>\n      <td>Bronx</td>\n      <td>34617</td>\n    </tr>\n    <tr>\n      <th>24</th>\n      <td>Mar</td>\n      <td>Bronx</td>\n      <td>32232</td>\n    </tr>\n    <tr>\n      <th>6</th>\n      <td>Feb</td>\n      <td>Bronx</td>\n      <td>28694</td>\n    </tr>\n    <tr>\n      <th>12</th>\n      <td>Jan</td>\n      <td>Bronx</td>\n      <td>22461</td>\n    </tr>\n    <tr>\n      <th>23</th>\n      <td>Jun</td>\n      <td>Staten Island</td>\n      <td>1673</td>\n    </tr>\n    <tr>\n      <th>35</th>\n      <td>May</td>\n      <td>Staten Island</td>\n      <td>1517</td>\n    </tr>\n    <tr>\n      <th>5</th>\n      <td>Apr</td>\n      <td>Staten Island</td>\n      <td>1068</td>\n    </tr>\n    <tr>\n      <th>29</th>\n      <td>Mar</td>\n      <td>Staten Island</td>\n      <td>975</td>\n    </tr>\n    <tr>\n      <th>11</th>\n      <td>Feb</td>\n      <td>Staten Island</td>\n      <td>903</td>\n    </tr>\n    <tr>\n      <th>17</th>\n      <td>Jan</td>\n      <td>Staten Island</td>\n      <td>821</td>\n    </tr>\n    <tr>\n      <th>20</th>\n      <td>Jun</td>\n      <td>EWR</td>\n      <td>29</td>\n    </tr>\n    <tr>\n      <th>32</th>\n      <td>May</td>\n      <td>EWR</td>\n      <td>27</td>\n    </tr>\n    <tr>\n      <th>26</th>\n      <td>Mar</td>\n      <td>EWR</td>\n      <td>14</td>\n    </tr>\n    <tr>\n      <th>8</th>\n      <td>Feb</td>\n      <td>EWR</td>\n      <td>14</td>\n    </tr>\n    <tr>\n      <th>14</th>\n      <td>Jan</td>\n      <td>EWR</td>\n      <td>11</td>\n    </tr>\n    <tr>\n      <th>2</th>\n      <td>Apr</td>\n      <td>EWR</td>\n      <td>10</td>\n    </tr>\n  </tbody>\n</table>\n</div>"
     },
     "execution_count": 66,
     "metadata": {},
     "output_type": "execute_result"
    }
   ],
   "source": [
    "pickups_by_mon_bor"
   ],
   "metadata": {
    "collapsed": false
   }
  },
  {
   "cell_type": "markdown",
   "source": [
    "---\n",
    "**№10 Задания второго урока 2.3**\n",
    "\n",
    "💀 Сложное задание! 💀\n",
    "Теперь задача посложнее! Попрактикуемся в написании собственных функций и их применении к датафрейму. Поскольку данные о поездках в Нью-Йорке, температура представлена в градусах Фаренгейта.\n",
    "\n",
    "Напишите функцию temp_to_celcius, которая получает на вход колонку с температурой в °F и возвращает значения, переведённые в градусы Цельсия.\n",
    "\n",
    "Формула:\n",
    "Celsius=(Fahrenheit−32)⋅5.09.0Celsius=9.0(Fahrenheit−32)⋅5.0​\n",
    "\n",
    "Пример работы:\n",
    "> taxi['temp'][:5]\n",
    "0    30.0\n",
    "1    30.0\n",
    "3    30.0\n",
    "4    30.0\n",
    "5    30.0\n",
    "\n",
    "> taxi['temp_C'] = temp_to_celcius(taxi['temp'])\n",
    "> taxi['temp_C'][:5]\n",
    "0   -1.111111\n",
    "1   -1.111111\n",
    "3   -1.111111\n",
    "4   -1.111111\n",
    "5   -1.111111\n",
    "\n",
    "NB! В окошке ниже надо написать только саму функцию. Так как урок посвящён pandas, то и всё содержимое функции должно быть выполнено средствами этой библиотеки - убедитесь, что на выходе она даёт pandas Series."
   ],
   "metadata": {
    "collapsed": false
   }
  },
  {
   "cell_type": "code",
   "execution_count": 68,
   "outputs": [
    {
     "data": {
      "text/plain": "0    30.0\n1    30.0\n2    30.0\n3    30.0\n4    30.0\nName: temp, dtype: float64"
     },
     "execution_count": 68,
     "metadata": {},
     "output_type": "execute_result"
    }
   ],
   "source": [
    "taxi['temp'][:5]"
   ],
   "metadata": {
    "collapsed": false
   }
  },
  {
   "cell_type": "code",
   "execution_count": 70,
   "outputs": [],
   "source": [
    "def temp_to_celcius(c_far):\n",
    "    c_temp = ((c_far - 32) * 5.0) / 9.0\n",
    "    return c_temp"
   ],
   "metadata": {
    "collapsed": false
   }
  },
  {
   "cell_type": "code",
   "execution_count": 71,
   "outputs": [],
   "source": [
    "taxi['temp_C'] = temp_to_celcius(taxi['temp'])"
   ],
   "metadata": {
    "collapsed": false
   }
  },
  {
   "cell_type": "code",
   "execution_count": 72,
   "outputs": [
    {
     "data": {
      "text/plain": "0   -1.111111\n1   -1.111111\n2   -1.111111\n3   -1.111111\n4   -1.111111\nName: temp_C, dtype: float64"
     },
     "execution_count": 72,
     "metadata": {},
     "output_type": "execute_result"
    }
   ],
   "source": [
    "taxi['temp_C'][:5]"
   ],
   "metadata": {
    "collapsed": false
   }
  }
 ],
 "metadata": {
  "kernelspec": {
   "display_name": "Python 3",
   "language": "python",
   "name": "python3"
  },
  "language_info": {
   "codemirror_mode": {
    "name": "ipython",
    "version": 2
   },
   "file_extension": ".py",
   "mimetype": "text/x-python",
   "name": "python",
   "nbconvert_exporter": "python",
   "pygments_lexer": "ipython2",
   "version": "2.7.6"
  }
 },
 "nbformat": 4,
 "nbformat_minor": 0
}
